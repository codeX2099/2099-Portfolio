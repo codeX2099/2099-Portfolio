{
 "cells": [
  {
   "cell_type": "markdown",
   "id": "c5f28acd",
   "metadata": {},
   "source": [
    "### Reading a database using sqlite 3"
   ]
  },
  {
   "cell_type": "markdown",
   "id": "5f7e411e",
   "metadata": {},
   "source": [
    "### In this part of the code we will be reading a database from sqlite3"
   ]
  },
  {
   "cell_type": "code",
   "execution_count": 2,
   "id": "697eaf19",
   "metadata": {},
   "outputs": [],
   "source": [
    "import sqlite3\n",
    "import pandas as pd #Importing the nescessary libraries\n",
    "conn = sqlite3.connect(\"eng_subtitles_database.db\") # connecting to sqlite 3"
   ]
  },
  {
   "cell_type": "code",
   "execution_count": 3,
   "id": "0053892e",
   "metadata": {},
   "outputs": [
    {
     "data": {
      "text/html": [
       "<div>\n",
       "<style scoped>\n",
       "    .dataframe tbody tr th:only-of-type {\n",
       "        vertical-align: middle;\n",
       "    }\n",
       "\n",
       "    .dataframe tbody tr th {\n",
       "        vertical-align: top;\n",
       "    }\n",
       "\n",
       "    .dataframe thead th {\n",
       "        text-align: right;\n",
       "    }\n",
       "</style>\n",
       "<table border=\"1\" class=\"dataframe\">\n",
       "  <thead>\n",
       "    <tr style=\"text-align: right;\">\n",
       "      <th></th>\n",
       "      <th>num</th>\n",
       "      <th>name</th>\n",
       "      <th>content</th>\n",
       "    </tr>\n",
       "  </thead>\n",
       "  <tbody>\n",
       "    <tr>\n",
       "      <th>0</th>\n",
       "      <td>9180533</td>\n",
       "      <td>the.message.(1976).eng.1cd</td>\n",
       "      <td>b'PK\\x03\\x04\\x14\\x00\\x00\\x00\\x08\\x00\\x1c\\xa9\\x...</td>\n",
       "    </tr>\n",
       "    <tr>\n",
       "      <th>1</th>\n",
       "      <td>9180583</td>\n",
       "      <td>here.comes.the.grump.s01.e09.joltin.jack.in.bo...</td>\n",
       "      <td>b'PK\\x03\\x04\\x14\\x00\\x00\\x00\\x08\\x00\\x17\\xb9\\x...</td>\n",
       "    </tr>\n",
       "    <tr>\n",
       "      <th>2</th>\n",
       "      <td>9180592</td>\n",
       "      <td>yumis.cells.s02.e13.episode.2.13.(2022).eng.1cd</td>\n",
       "      <td>b'PK\\x03\\x04\\x14\\x00\\x00\\x00\\x08\\x00L\\xb9\\x99V...</td>\n",
       "    </tr>\n",
       "    <tr>\n",
       "      <th>3</th>\n",
       "      <td>9180594</td>\n",
       "      <td>yumis.cells.s02.e14.episode.2.14.(2022).eng.1cd</td>\n",
       "      <td>b'PK\\x03\\x04\\x14\\x00\\x00\\x00\\x08\\x00U\\xa9\\x99V...</td>\n",
       "    </tr>\n",
       "    <tr>\n",
       "      <th>4</th>\n",
       "      <td>9180600</td>\n",
       "      <td>broker.(2022).eng.1cd</td>\n",
       "      <td>b'PK\\x03\\x04\\x14\\x00\\x00\\x00\\x08\\x001\\xa9\\x99V...</td>\n",
       "    </tr>\n",
       "  </tbody>\n",
       "</table>\n",
       "</div>"
      ],
      "text/plain": [
       "       num                                               name  \\\n",
       "0  9180533                         the.message.(1976).eng.1cd   \n",
       "1  9180583  here.comes.the.grump.s01.e09.joltin.jack.in.bo...   \n",
       "2  9180592    yumis.cells.s02.e13.episode.2.13.(2022).eng.1cd   \n",
       "3  9180594    yumis.cells.s02.e14.episode.2.14.(2022).eng.1cd   \n",
       "4  9180600                              broker.(2022).eng.1cd   \n",
       "\n",
       "                                             content  \n",
       "0  b'PK\\x03\\x04\\x14\\x00\\x00\\x00\\x08\\x00\\x1c\\xa9\\x...  \n",
       "1  b'PK\\x03\\x04\\x14\\x00\\x00\\x00\\x08\\x00\\x17\\xb9\\x...  \n",
       "2  b'PK\\x03\\x04\\x14\\x00\\x00\\x00\\x08\\x00L\\xb9\\x99V...  \n",
       "3  b'PK\\x03\\x04\\x14\\x00\\x00\\x00\\x08\\x00U\\xa9\\x99V...  \n",
       "4  b'PK\\x03\\x04\\x14\\x00\\x00\\x00\\x08\\x001\\xa9\\x99V...  "
      ]
     },
     "execution_count": 3,
     "metadata": {},
     "output_type": "execute_result"
    }
   ],
   "source": [
    "query = 'SELECT * FROM zipfiles' #Query writing i.e selecting all columns from zipfiles\n",
    "df = pd.read_sql_query(query, conn) # Reading the sqlite query using pandas\n",
    "conn.close() #closnig connection\n",
    "df.head()"
   ]
  },
  {
   "cell_type": "markdown",
   "id": "b4d545ae",
   "metadata": {},
   "source": [
    "### This part of the code visualizes the processing of decoding and cleaning"
   ]
  },
  {
   "cell_type": "code",
   "execution_count": 4,
   "id": "52807627",
   "metadata": {},
   "outputs": [],
   "source": [
    "from tqdm import tqdm, tqdm_notebook\n",
    "tqdm.pandas()"
   ]
  },
  {
   "cell_type": "code",
   "execution_count": 5,
   "id": "f73240c7",
   "metadata": {},
   "outputs": [],
   "source": [
    "import zipfile\n",
    "import io\n",
    "def decomp_decode(data):\n",
    "    with zipfile.ZipFile(io.BytesIO(data)) as zip_file:\n",
    "        # Extract the first file in the ZIP archive\n",
    "        file_list = zip_file.namelist()\n",
    "        first_file = file_list[0]\n",
    "        decompressed_data = zip_file.read(first_file)\n",
    "    return decompressed_data.decode('latin-1')"
   ]
  },
  {
   "cell_type": "code",
   "execution_count": 6,
   "id": "c735ba85",
   "metadata": {},
   "outputs": [
    {
     "name": "stderr",
     "output_type": "stream",
     "text": [
      "100%|██████████| 82498/82498 [01:30<00:00, 915.70it/s] \n"
     ]
    }
   ],
   "source": [
    "df['content'] = df['content'].progress_apply(lambda x : decomp_decode(x))"
   ]
  },
  {
   "cell_type": "code",
   "execution_count": 7,
   "id": "30b7dcd0",
   "metadata": {},
   "outputs": [
    {
     "data": {
      "text/plain": [
       "0    1\\r\\n00:00:06,000 --> 00:00:12,074\\r\\nWatch an...\n",
       "1    1\\r\\n00:00:29,359 --> 00:00:32,048\\r\\nAh! Ther...\n",
       "2    1\\r\\n00:00:53,200 --> 00:00:56,030\\r\\n<i>Yumi'...\n",
       "3    1\\r\\n00:00:06,000 --> 00:00:12,074\\r\\nWatch an...\n",
       "4    ï»¿1\\r\\n00:00:06,000 --> 00:00:12,074\\r\\nWatch...\n",
       "Name: content, dtype: object"
      ]
     },
     "execution_count": 7,
     "metadata": {},
     "output_type": "execute_result"
    }
   ],
   "source": [
    "df['content'].head()"
   ]
  },
  {
   "cell_type": "code",
   "execution_count": 8,
   "id": "04e17526",
   "metadata": {},
   "outputs": [],
   "source": [
    "import re\n",
    "\n",
    "def clean_data(data): # data is the entire text file entry in the dataframe\n",
    "\n",
    "    # removing timestamps\n",
    "    data = re.sub(\"\\d{2}:\\d{2}:\\d{2},\\d{3}\\s-->\\s\\d{2}:\\d{2}:\\d{2},\\d{3}\",\" \",  data)\n",
    "\n",
    "    # removing index no. of dialogues\n",
    "    data = re.sub(r'\\n?\\d+\\r', \"\", data)\n",
    "\n",
    "    # removing escape sequences like \\n \\r\n",
    "    data = re.sub('\\r|\\n', \"\", data)\n",
    "\n",
    "    # removing <i> and </i>\n",
    "    data = re.sub('<i>|</i>', \"\", data)\n",
    "    # removing links\n",
    "    data = re.sub(\"(?:www\\.)osdb\\.link\\/[\\w\\d]+|www\\.OpenSubtitles\\.org|osdb\\.link\\/ext|api\\.OpenSubtitles\\.org|OpenSubtitles\\.com\", \" \",data)\n",
    "\n",
    "    # Converting to lower case\n",
    "    data = data.lower()\n",
    "\n",
    "    # return\n",
    "    return data"
   ]
  },
  {
   "cell_type": "code",
   "execution_count": 9,
   "id": "b89cb0c2",
   "metadata": {},
   "outputs": [
    {
     "name": "stderr",
     "output_type": "stream",
     "text": [
      "100%|██████████| 82498/82498 [20:33<00:00, 66.86it/s]   \n"
     ]
    }
   ],
   "source": [
    "df['content'] = df['content'].progress_apply(lambda x: clean_data(x))"
   ]
  },
  {
   "cell_type": "markdown",
   "id": "599c8ba6",
   "metadata": {},
   "source": [
    "####"
   ]
  },
  {
   "cell_type": "markdown",
   "id": "d40066ae",
   "metadata": {},
   "source": [
    "#####"
   ]
  },
  {
   "cell_type": "code",
   "execution_count": 2,
   "id": "c67c483b",
   "metadata": {},
   "outputs": [
    {
     "data": {
      "text/html": [
       "<div>\n",
       "<style scoped>\n",
       "    .dataframe tbody tr th:only-of-type {\n",
       "        vertical-align: middle;\n",
       "    }\n",
       "\n",
       "    .dataframe tbody tr th {\n",
       "        vertical-align: top;\n",
       "    }\n",
       "\n",
       "    .dataframe thead th {\n",
       "        text-align: right;\n",
       "    }\n",
       "</style>\n",
       "<table border=\"1\" class=\"dataframe\">\n",
       "  <thead>\n",
       "    <tr style=\"text-align: right;\">\n",
       "      <th></th>\n",
       "      <th>num</th>\n",
       "      <th>name</th>\n",
       "      <th>content</th>\n",
       "    </tr>\n",
       "  </thead>\n",
       "  <tbody>\n",
       "    <tr>\n",
       "      <th>0</th>\n",
       "      <td>9180533</td>\n",
       "      <td>the.message.(1976).eng.1cd</td>\n",
       "      <td>watch any video online with open-subtitlesfre...</td>\n",
       "    </tr>\n",
       "    <tr>\n",
       "      <th>1</th>\n",
       "      <td>9180583</td>\n",
       "      <td>here.comes.the.grump.s01.e09.joltin.jack.in.bo...</td>\n",
       "      <td>ah! there's princessdawn and terry with the b...</td>\n",
       "    </tr>\n",
       "    <tr>\n",
       "      <th>2</th>\n",
       "      <td>9180592</td>\n",
       "      <td>yumis.cells.s02.e13.episode.2.13.(2022).eng.1cd</td>\n",
       "      <td>yumi's cells 2 episode extremely polite yumi ...</td>\n",
       "    </tr>\n",
       "    <tr>\n",
       "      <th>3</th>\n",
       "      <td>9180594</td>\n",
       "      <td>yumis.cells.s02.e14.episode.2.14.(2022).eng.1cd</td>\n",
       "      <td>watch any video online with open-subtitlesfre...</td>\n",
       "    </tr>\n",
       "    <tr>\n",
       "      <th>4</th>\n",
       "      <td>9180600</td>\n",
       "      <td>broker.(2022).eng.1cd</td>\n",
       "      <td>ï»¿ watch any video online with open-subtitles...</td>\n",
       "    </tr>\n",
       "  </tbody>\n",
       "</table>\n",
       "</div>"
      ],
      "text/plain": [
       "       num                                               name  \\\n",
       "0  9180533                         the.message.(1976).eng.1cd   \n",
       "1  9180583  here.comes.the.grump.s01.e09.joltin.jack.in.bo...   \n",
       "2  9180592    yumis.cells.s02.e13.episode.2.13.(2022).eng.1cd   \n",
       "3  9180594    yumis.cells.s02.e14.episode.2.14.(2022).eng.1cd   \n",
       "4  9180600                              broker.(2022).eng.1cd   \n",
       "\n",
       "                                             content  \n",
       "0   watch any video online with open-subtitlesfre...  \n",
       "1   ah! there's princessdawn and terry with the b...  \n",
       "2   yumi's cells 2 episode extremely polite yumi ...  \n",
       "3   watch any video online with open-subtitlesfre...  \n",
       "4  ï»¿ watch any video online with open-subtitles...  "
      ]
     },
     "execution_count": 2,
     "metadata": {},
     "output_type": "execute_result"
    }
   ],
   "source": [
    "import pandas as pd\n",
    "df = pd.read_csv('Output_Result_V2.csv')\n",
    "df.head()"
   ]
  },
  {
   "cell_type": "code",
   "execution_count": 3,
   "id": "5076cc12",
   "metadata": {},
   "outputs": [],
   "source": [
    "import numpy as np\n",
    "from sklearn.metrics.pairwise import cosine_similarity\n",
    "from sklearn.feature_extraction.text import CountVectorizer\n",
    "from sklearn.feature_extraction.text import TfidfTransformer"
   ]
  },
  {
   "cell_type": "code",
   "execution_count": 5,
   "id": "51856eb0",
   "metadata": {},
   "outputs": [],
   "source": [
    "CV = CountVectorizer() # COunt vectorizer\n",
    "TF_M = CV.fit_transform(df['content']) #Tranformer Matrix"
   ]
  },
  {
   "cell_type": "code",
   "execution_count": 6,
   "id": "84513fc9",
   "metadata": {},
   "outputs": [
    {
     "data": {
      "text/html": [
       "<style>#sk-container-id-1 {color: black;}#sk-container-id-1 pre{padding: 0;}#sk-container-id-1 div.sk-toggleable {background-color: white;}#sk-container-id-1 label.sk-toggleable__label {cursor: pointer;display: block;width: 100%;margin-bottom: 0;padding: 0.3em;box-sizing: border-box;text-align: center;}#sk-container-id-1 label.sk-toggleable__label-arrow:before {content: \"▸\";float: left;margin-right: 0.25em;color: #696969;}#sk-container-id-1 label.sk-toggleable__label-arrow:hover:before {color: black;}#sk-container-id-1 div.sk-estimator:hover label.sk-toggleable__label-arrow:before {color: black;}#sk-container-id-1 div.sk-toggleable__content {max-height: 0;max-width: 0;overflow: hidden;text-align: left;background-color: #f0f8ff;}#sk-container-id-1 div.sk-toggleable__content pre {margin: 0.2em;color: black;border-radius: 0.25em;background-color: #f0f8ff;}#sk-container-id-1 input.sk-toggleable__control:checked~div.sk-toggleable__content {max-height: 200px;max-width: 100%;overflow: auto;}#sk-container-id-1 input.sk-toggleable__control:checked~label.sk-toggleable__label-arrow:before {content: \"▾\";}#sk-container-id-1 div.sk-estimator input.sk-toggleable__control:checked~label.sk-toggleable__label {background-color: #d4ebff;}#sk-container-id-1 div.sk-label input.sk-toggleable__control:checked~label.sk-toggleable__label {background-color: #d4ebff;}#sk-container-id-1 input.sk-hidden--visually {border: 0;clip: rect(1px 1px 1px 1px);clip: rect(1px, 1px, 1px, 1px);height: 1px;margin: -1px;overflow: hidden;padding: 0;position: absolute;width: 1px;}#sk-container-id-1 div.sk-estimator {font-family: monospace;background-color: #f0f8ff;border: 1px dotted black;border-radius: 0.25em;box-sizing: border-box;margin-bottom: 0.5em;}#sk-container-id-1 div.sk-estimator:hover {background-color: #d4ebff;}#sk-container-id-1 div.sk-parallel-item::after {content: \"\";width: 100%;border-bottom: 1px solid gray;flex-grow: 1;}#sk-container-id-1 div.sk-label:hover label.sk-toggleable__label {background-color: #d4ebff;}#sk-container-id-1 div.sk-serial::before {content: \"\";position: absolute;border-left: 1px solid gray;box-sizing: border-box;top: 0;bottom: 0;left: 50%;z-index: 0;}#sk-container-id-1 div.sk-serial {display: flex;flex-direction: column;align-items: center;background-color: white;padding-right: 0.2em;padding-left: 0.2em;position: relative;}#sk-container-id-1 div.sk-item {position: relative;z-index: 1;}#sk-container-id-1 div.sk-parallel {display: flex;align-items: stretch;justify-content: center;background-color: white;position: relative;}#sk-container-id-1 div.sk-item::before, #sk-container-id-1 div.sk-parallel-item::before {content: \"\";position: absolute;border-left: 1px solid gray;box-sizing: border-box;top: 0;bottom: 0;left: 50%;z-index: -1;}#sk-container-id-1 div.sk-parallel-item {display: flex;flex-direction: column;z-index: 1;position: relative;background-color: white;}#sk-container-id-1 div.sk-parallel-item:first-child::after {align-self: flex-end;width: 50%;}#sk-container-id-1 div.sk-parallel-item:last-child::after {align-self: flex-start;width: 50%;}#sk-container-id-1 div.sk-parallel-item:only-child::after {width: 0;}#sk-container-id-1 div.sk-dashed-wrapped {border: 1px dashed gray;margin: 0 0.4em 0.5em 0.4em;box-sizing: border-box;padding-bottom: 0.4em;background-color: white;}#sk-container-id-1 div.sk-label label {font-family: monospace;font-weight: bold;display: inline-block;line-height: 1.2em;}#sk-container-id-1 div.sk-label-container {text-align: center;}#sk-container-id-1 div.sk-container {/* jupyter's `normalize.less` sets `[hidden] { display: none; }` but bootstrap.min.css set `[hidden] { display: none !important; }` so we also need the `!important` here to be able to override the default hidden behavior on the sphinx rendered scikit-learn.org. See: https://github.com/scikit-learn/scikit-learn/issues/21755 */display: inline-block !important;position: relative;}#sk-container-id-1 div.sk-text-repr-fallback {display: none;}</style><div id=\"sk-container-id-1\" class=\"sk-top-container\"><div class=\"sk-text-repr-fallback\"><pre>CountVectorizer()</pre><b>In a Jupyter environment, please rerun this cell to show the HTML representation or trust the notebook. <br />On GitHub, the HTML representation is unable to render, please try loading this page with nbviewer.org.</b></div><div class=\"sk-container\" hidden><div class=\"sk-item\"><div class=\"sk-estimator sk-toggleable\"><input class=\"sk-toggleable__control sk-hidden--visually\" id=\"sk-estimator-id-1\" type=\"checkbox\" checked><label for=\"sk-estimator-id-1\" class=\"sk-toggleable__label sk-toggleable__label-arrow\">CountVectorizer</label><div class=\"sk-toggleable__content\"><pre>CountVectorizer()</pre></div></div></div></div></div>"
      ],
      "text/plain": [
       "CountVectorizer()"
      ]
     },
     "execution_count": 6,
     "metadata": {},
     "output_type": "execute_result"
    }
   ],
   "source": [
    "CV"
   ]
  },
  {
   "cell_type": "code",
   "execution_count": 8,
   "id": "3dd2b790",
   "metadata": {},
   "outputs": [],
   "source": [
    "TF_T = TfidfTransformer() #Tranformer \n",
    "TFIDF_M = TF_T.fit_transform(TF_M) #Matrix"
   ]
  },
  {
   "cell_type": "code",
   "execution_count": 9,
   "id": "e8747f1f",
   "metadata": {},
   "outputs": [
    {
     "data": {
      "text/html": [
       "<style>#sk-container-id-2 {color: black;}#sk-container-id-2 pre{padding: 0;}#sk-container-id-2 div.sk-toggleable {background-color: white;}#sk-container-id-2 label.sk-toggleable__label {cursor: pointer;display: block;width: 100%;margin-bottom: 0;padding: 0.3em;box-sizing: border-box;text-align: center;}#sk-container-id-2 label.sk-toggleable__label-arrow:before {content: \"▸\";float: left;margin-right: 0.25em;color: #696969;}#sk-container-id-2 label.sk-toggleable__label-arrow:hover:before {color: black;}#sk-container-id-2 div.sk-estimator:hover label.sk-toggleable__label-arrow:before {color: black;}#sk-container-id-2 div.sk-toggleable__content {max-height: 0;max-width: 0;overflow: hidden;text-align: left;background-color: #f0f8ff;}#sk-container-id-2 div.sk-toggleable__content pre {margin: 0.2em;color: black;border-radius: 0.25em;background-color: #f0f8ff;}#sk-container-id-2 input.sk-toggleable__control:checked~div.sk-toggleable__content {max-height: 200px;max-width: 100%;overflow: auto;}#sk-container-id-2 input.sk-toggleable__control:checked~label.sk-toggleable__label-arrow:before {content: \"▾\";}#sk-container-id-2 div.sk-estimator input.sk-toggleable__control:checked~label.sk-toggleable__label {background-color: #d4ebff;}#sk-container-id-2 div.sk-label input.sk-toggleable__control:checked~label.sk-toggleable__label {background-color: #d4ebff;}#sk-container-id-2 input.sk-hidden--visually {border: 0;clip: rect(1px 1px 1px 1px);clip: rect(1px, 1px, 1px, 1px);height: 1px;margin: -1px;overflow: hidden;padding: 0;position: absolute;width: 1px;}#sk-container-id-2 div.sk-estimator {font-family: monospace;background-color: #f0f8ff;border: 1px dotted black;border-radius: 0.25em;box-sizing: border-box;margin-bottom: 0.5em;}#sk-container-id-2 div.sk-estimator:hover {background-color: #d4ebff;}#sk-container-id-2 div.sk-parallel-item::after {content: \"\";width: 100%;border-bottom: 1px solid gray;flex-grow: 1;}#sk-container-id-2 div.sk-label:hover label.sk-toggleable__label {background-color: #d4ebff;}#sk-container-id-2 div.sk-serial::before {content: \"\";position: absolute;border-left: 1px solid gray;box-sizing: border-box;top: 0;bottom: 0;left: 50%;z-index: 0;}#sk-container-id-2 div.sk-serial {display: flex;flex-direction: column;align-items: center;background-color: white;padding-right: 0.2em;padding-left: 0.2em;position: relative;}#sk-container-id-2 div.sk-item {position: relative;z-index: 1;}#sk-container-id-2 div.sk-parallel {display: flex;align-items: stretch;justify-content: center;background-color: white;position: relative;}#sk-container-id-2 div.sk-item::before, #sk-container-id-2 div.sk-parallel-item::before {content: \"\";position: absolute;border-left: 1px solid gray;box-sizing: border-box;top: 0;bottom: 0;left: 50%;z-index: -1;}#sk-container-id-2 div.sk-parallel-item {display: flex;flex-direction: column;z-index: 1;position: relative;background-color: white;}#sk-container-id-2 div.sk-parallel-item:first-child::after {align-self: flex-end;width: 50%;}#sk-container-id-2 div.sk-parallel-item:last-child::after {align-self: flex-start;width: 50%;}#sk-container-id-2 div.sk-parallel-item:only-child::after {width: 0;}#sk-container-id-2 div.sk-dashed-wrapped {border: 1px dashed gray;margin: 0 0.4em 0.5em 0.4em;box-sizing: border-box;padding-bottom: 0.4em;background-color: white;}#sk-container-id-2 div.sk-label label {font-family: monospace;font-weight: bold;display: inline-block;line-height: 1.2em;}#sk-container-id-2 div.sk-label-container {text-align: center;}#sk-container-id-2 div.sk-container {/* jupyter's `normalize.less` sets `[hidden] { display: none; }` but bootstrap.min.css set `[hidden] { display: none !important; }` so we also need the `!important` here to be able to override the default hidden behavior on the sphinx rendered scikit-learn.org. See: https://github.com/scikit-learn/scikit-learn/issues/21755 */display: inline-block !important;position: relative;}#sk-container-id-2 div.sk-text-repr-fallback {display: none;}</style><div id=\"sk-container-id-2\" class=\"sk-top-container\"><div class=\"sk-text-repr-fallback\"><pre>TfidfTransformer()</pre><b>In a Jupyter environment, please rerun this cell to show the HTML representation or trust the notebook. <br />On GitHub, the HTML representation is unable to render, please try loading this page with nbviewer.org.</b></div><div class=\"sk-container\" hidden><div class=\"sk-item\"><div class=\"sk-estimator sk-toggleable\"><input class=\"sk-toggleable__control sk-hidden--visually\" id=\"sk-estimator-id-2\" type=\"checkbox\" checked><label for=\"sk-estimator-id-2\" class=\"sk-toggleable__label sk-toggleable__label-arrow\">TfidfTransformer</label><div class=\"sk-toggleable__content\"><pre>TfidfTransformer()</pre></div></div></div></div></div>"
      ],
      "text/plain": [
       "TfidfTransformer()"
      ]
     },
     "execution_count": 9,
     "metadata": {},
     "output_type": "execute_result"
    }
   ],
   "source": [
    "TF_T"
   ]
  },
  {
   "cell_type": "code",
   "execution_count": 10,
   "id": "89581d9f",
   "metadata": {},
   "outputs": [
    {
     "data": {
      "text/plain": [
       "<40000x1754436 sparse matrix of type '<class 'numpy.float64'>'\n",
       "\twith 48750439 stored elements in Compressed Sparse Row format>"
      ]
     },
     "execution_count": 10,
     "metadata": {},
     "output_type": "execute_result"
    }
   ],
   "source": [
    "TFIDF_M"
   ]
  },
  {
   "cell_type": "code",
   "execution_count": null,
   "id": "a4781ff1",
   "metadata": {},
   "outputs": [],
   "source": []
  },
  {
   "cell_type": "code",
   "execution_count": 20,
   "id": "8260099a",
   "metadata": {},
   "outputs": [
    {
     "name": "stdout",
     "output_type": "stream",
     "text": [
      "Enter your line: broker\n"
     ]
    }
   ],
   "source": [
    "User_Input = input(\"Enter your line: \")\n",
    "User_Vector = CV.transform([User_Input])\n",
    "User_TFIDF = TF_T.transform(User_Vector)"
   ]
  },
  {
   "cell_type": "code",
   "execution_count": null,
   "id": "eb1f8d66",
   "metadata": {},
   "outputs": [],
   "source": []
  },
  {
   "cell_type": "code",
   "execution_count": 21,
   "id": "969e5ad4",
   "metadata": {},
   "outputs": [],
   "source": [
    "Score = cosine_similarity(User_TFIDF, TFIDF_M)"
   ]
  },
  {
   "cell_type": "code",
   "execution_count": 22,
   "id": "2710915d",
   "metadata": {},
   "outputs": [
    {
     "name": "stdout",
     "output_type": "stream",
     "text": [
      "Top 3 documents similar to query: broker\n",
      "Document \n",
      " 1 :  but it's saturday. it is? then i'll askall the terrorists who threatento destroy our world to take the day off. i just mean i had plansto spend the day with aj. and aj is? my daughter.ah, children. the time goes so fast, but we're allmaking sacrifices. excuse me, waiter? more champagnein the next one. uh, yeah, remind me.what's your sacrifice? calling you on a saturday. it's a simple pickup.an hour max. - especially with...- no, no, no. please don't say it. agent archer as backup. archer on a saturday? as in the dayafter friday night? i don't see the problem. obviously.have you talked to him yet? no, actually. he hasn't picked up the phonefor some reason. oh, yeah, \"for some reason.\"  hey, archer. no.  support us and become vip member to remove all ads from   yes,a shower was necessary, lana. it was a night of many fluids. first of all, gross.it really was. second of all, hurry up. i had a whole special dayplanned with aj. coney island,a fancy tea place. moist yet firm skindoesn't just happen, lana. i'm on step two of ten. hey, do you seea pumice stone out there? fabian wants us to pick upa negotiation specialist. the broker. he's workedwith all the major players; mafia, yakuza, dictators,dirty cops. cops! there was somethingwith police last night. whoo-hoo! police horse! yeah,there's no way that happened. then explainthese lance callouses. anyway, the broker'sa longtime go-between for criminal groups,which means he has intel on all of them.but now he's retiring, so they all want to torture himfor info and then kill him, which means your shower routinecould cost a man his life and me my day with aj. hello? sorry,step five is a face wash. let's skip to step ten. it's not a big deal, robert. just take aj to the officeinstead of my place. it's not aboutthe physical distance, lana. it's the emotional distancefrom you working instead of spending timewith aj. i'm not working. i just wanna show ajwhere mommy works. depressing even if true. - shut up.- is that archer? - no, it's...- hey, robert. i wanna remind you, these are formative yearsfor aj. one day you'll look backand wish... that you didn't tell mehow to parent? i agree. so since you are working... love the lying to robert,by the way... who exactlyis taking care of aj? seriously? yeah, pam,i'm really sorry. i... no, i mean, this is amazing. aunt pam is gonna planso many great activities. not to go all ms. frizzle,but i might steal a bus. just be at the officein 15 minutes, okay? and one other thing... - hello, pam. where is...- lana's upstairs. she just sent me down to get ajto bring her upstairs to lana, who we've establishedis upstairs. and she can't comedown because... she... - got her period.- oh. that's a few days earlyfor her, so i guessshe would be unprepared. aj, you ready to come alongwith aunt pammy? no,i don't want to call you that. we've been workingon boundaries. oh, that's okay. i'll just have to earn it with activities! activities with lana? sure. all right, there's the broker. but fabian says he's paranoid,so don't spook him or... hey, broker!broker, over here. damn it, archer. i'm too hungoverfor subterfuge, lana. uh, are you broker,or possibly \"the broker\"? depends on who's asking. vagueness, that's fun. hi. look, we're hereon orders from fabian. orders? someone has the twoof you working on a saturday? - how awful!- ugh, do not get me started. i had a whole day plannedwith my daughter. and i planned last nightaround a day that would let me laypassed out near, but not in, - a pool of vomit.- oh, how dreadful! my sympathiesto the both of you. oh, it's okay. i just... wait, how did we get on this? fabian wants us to take you in. oh, fabian sent you. oh, my apologies. you see, as a negotiator, i often get peopleto talk about themselves as a distractionif i need an easy escape. i call it \"instant intimacy.\" wait, so you weren't actuallysympathizing with me? oh, no,with you, it was real. but there are a lot of peopleafter me. can't be too careful. speaking of,fabian and i had a code word. code word? uh, one moment. ooh. might be hardto get that info. i have a code phrase. \"this was a one-hour job,and i have a gun.\" archer! but, yeah, sorry.we are in a rush. - do you have kids?- ah, flash bang! damn it. - he got away.- like i give a shit. - what's my one rule?- no more flash bangs. no more flash bangs. my otolaryngologistalready said i'll be luckyif i'm not deaf by 50. there!he's going for the platform. what the hell? hey, pal, i'm the onewho should be mad. this is a shit bike.  jesus, shouldn't these bemotorcycle accessible by now?  damn it. hey! has anyone seena mischievous little man? yay high?strange air of sophistication? lana? how did you... i got on the train, archer. the \"being good at your job\"option. ooh, that one's fun. it teaches you animalsin english and en espaã±ol. uh, they used puerco for pig,but cerdo is more common. cool!this one's a coloring book. pam,when is my mom getting here? pam? aj? cyril? why are you here? oh,just burning the midnight oil, but midday.that midday oil. and why are you dressedso casually? fine, pam, you got me. sometimes i come in on weekendsto be at work but feel like i can goof off. well, why don't you just... the thought of goofing off during real work hoursterrifies me. lame. um,i wanna do something else. like playwith a pretty dolly maybe? - ha! hyah!- ah! fyi,she's working on boundaries. that's a good boundary. and it gives me an idea.activities! well, the thingyou have to understand is i'm an amateur marathoner, so it's easy for meto outrun people. maybe average people, not me. says the guy i just outran. ha! getting on a traindoesn't count. enough.i'm sorry we chased you, but we do work for fabian. he's just hard to reachon a saturday. - must be nice.- well, i'm still alive, so i'm inclined to believe you. but let me ask,as agents for fabian, do you think he's being honestabout his intent to help me? aha! you don't trust him. - it's not...- not at all. 0%. - well, time to run again.- wait. there are people out therewho actually want to kill you, and they could be anywhere. freeze!the broker's coming with us. no! he comes with us. does no onetake the weekend off? okay, clearly a lot happen can we just doa quick roll call? - nyet.- copy that, russian mafia. well, god damn it, dmitri. - eh, can we get a move on here?- oh, and classic mafia. thanks, everyone. looks like we havemexican standoff. easy,we don't use that term anymore. plus, none of uswant to kill each other, so it's more of a multiculturalawkward dinner party. can you not antagonizethe mobsters? big hand friend is smart. now, give us brokerand no one gets hurt. except broker, obviously. hey, new idea. i keep the broker,and everyone else gets hurt because he's under theprotection of sterling archer. the world greatest spy. i work for the agency. should that mean something? gentlemen, gentlemen! might i suggest an alternativewhere no one gets hurt, especially me?i mean, i get it. no one wants their secrets out.i'd want me dead too. right,oh, it's nothing personal. for sure. you are okay guy. look, comrade, i get it.i mean, i've got secrets too. gosh, if people knewthat my grand-meemaw still makes dinnerfor me every sunday... oh, my babushka does too. come on, so does my nonna. every sunday night, she makesa parmigiana could blow the... oh, damn it.he did it again. hey, did you knowhe runs marathons? he must bring that up a lot. - ah, a lot.- everyone, stop. - we want the broker.- ha, get in line, buddy. hiros hi!oh, we haven't seen the yakuza since the seattle negotiation. and now we have to outruna marathoner and threecriminal organizations - on a saturday, lana!- no, we don't. i put a tracker on the brokerwhile we had him. because we always lose them. ready, aj?i'm not gonna go easy on you just because you're a... ah! - whew. let's go again.- damn, aj. where'd you learn to fight? my mom signed me upfor judo classes to help my self-confidence.hyah! ah! you know, there's such a thingas too much confidence. now remember, aj, your opponent won't alwaysfight clean, so it's good to mix insome dirty boxing. eyes, throat, groin. or standard boxing,hold the dirt. - yah!- ooh! damn. hey, pam,we're still on mission, but we should be done soon.how's aj? great.she's playing with cyril. no, no, no, no, no! toying with him anyway. can you tell her i'll onlybe gone a little bit longer? plus her next few birthdaysand most holidays. uh, you want me to saythat second part? - no.- ah! hmm. too easy. can we do something else? i'm not sure krieger's labis the best place - for a child.- preteen. and why are you still in pads? that last throw...which i let you do... - jammed the zipper.- it'll be fine. just don't touch anythingor listen to anything that tells you to free it. dang it, locked. probably for the best.now who wants... my mom always keepsan extra bobby pin in her hair, so i do too. is it normal to beintimidated by a child? for you? absolutely. oh, you gotta be kidding me! the tracker sayshe's in there. so now i'm at coney islandwithout my daughter. yeah,it's not a good look for you. - oh, my god!- you see him? - oh, i see him.- we are mid-mission! and mid-saturday! wow!is that a raman spectrometer? maybe. how do you know that? mom sent me to science camp. it was right aftermusical theater camp. we did a production of \"stomp!\" aunt pammy would loveto see that! not calling you that,and i don't perform on command. - great boundaries!- whoa. a sensory deprivation tank? but why does it haveso many wires? aj, no! - ah! it's opening!- kill whatever comes out. what day is it? - it's... saturday.- what year? the same one. you are unbelievable. i know, winning poinkerson my first try? you knowhow impressive that is? they glue those bottles down,lana. i'll be impressedif you help me find the broker and get back to aj. i actually got this for aj. i know what it's like to havea mother who's neglectful... and withholding. wait, there he is.ugh, can we not? ah! ah! honestly,i'm glad it's you two. - you seem like my best option.- of all bad options. but fabian's betterthan the criminals - who want to kill you.- eh, tough call. stop making this take longer! i've already losthalf the day with aj. half the day of one weekend. it's not one weekend. there's always some missionor emergency or moronwho won't take our help... no offense... i just feel likei'm blowing it as a mother. - i know how you feel.- you have kids? oh, god, no.had an absent mother. it drove me to a life of crime. please? please, pam? okay, just this once. this feels likereally bad babysitting. - we're not giving her a gun.- it's okay. grandma gave meshooting lessons every year for my birthday, except when i was in europebecause she said, \"they traded the rightto bear arms for having limp fries.\" fine,but no automatic weapons. nobody move. aw, hi there, kitty. - aj, you shouldn't...- rah! that's what you sound like. aw, look how ferocious you are. a ferocious little predator. what in the damnzookeeper hell? language, pam. - what are you doing here?- it's saturday. babou likes to use weekendsto mark new territory. so that meansthe shooting range - is now covered in ocelot urine?- yeah! let's say it's justthe shooting range. that's...alarmingly good grouping. holy crap!who are you, even? it's just a hobby. seriously, who is this kid? hmm, that's weird. how does it not worry you? most things don't worry me,and i don't know what you're talking about,so those two reasons. i mean the ideathat we're ruining aj. lana, a million thingswill ruin aj. us, weird friends,a bad week at summer camp. wait, that's your answer?\"she's already ruined\"? i loved my summer camp. i keep my jogging shoesin the basket i made. we get it, you run! we're all messed upby something, lana. there's murdererswith great parents. all you can dois what you're already doing. try your bestand hope you get lucky. that... actually helpsa little. thanks. hey, pam, we've got the broker.everything's fine. we'll be back at the officein ten minutes. cool. uh, might want to make itsooner. oh, boy. why would all thesecriminal go to our office? maybe becausean idiot told them who he was and where he worked. i mean, that's one option. to be clear,we're driving toward a building full of people who wantto torture and kill me? - correct?- i don't wanna put plans in their mouths, but probably. ah.then i'll be getting out now. you didn't check himfor weapons? it's saturday! you can just pull overanywhere. oh, shoot me. i am saving my daughter,you jackhole. no sense dyingfor her daughter. uh, technicallyshe's my daughter too. you two havea child together? yes, but not through sex. this woman took my spermto have a baby. - oh, my god.- go on. yeah,and then she never told me. i told you when i was ready. after aj was bornduring a coup. not that you cared,because you abandoned her. so you faked a kidnappingto make me care? only the first kidnapping. the other one was real. anyway,she's back from switzerland, she barely knows meas a father, and her motheris going through a divorce. you know what?we gotta save this kid. listen up, people. until archer and lana get back, as the babysitter,i'm in charge. - yeah, of the kid.- you wanna try me? not yet, but keep yelling! you three,load up in the armory then run and gun these mofos. - aj, \"mofos\" means...- i know. i'll find aj a place to hideuntil it's over. over meaning we win? sure.  ah, not this again.oh, well. wait, wait, wait. we all want same thing, yes? the broker dead and bloody. then maybe we work together,comrades. oh, come on, look at us. the broker connecting usone last time. this guy's the glue, you know? god blessthat soon-to-be dead man. can't you rig up an explosive that will take them outall at once? hey,no backseat bomb building. yeah, we didn't tell you howto make your terrible ties. wait,you think i make my ties? ah! aj, i need you to hidein the lab. but i can help. i swear, i'm ready. i know you are, honey,but you shouldn't have to be, so pam's got this one, whether you call heraunt pammy or not. all right, fellas! don't tell mom the babysitter'sabout to kick your ass! ah!taking a lot of bullets here. do you want meto rush this bomb? no,but i don't love being shot. and i don't love criticism. wait, wait, wait, you didn'tisolate the blast radius. it'll take us all out... how are we not dead? i built it so all the murderwent that way. are youour demolitions expert now? it's more of a hobby/religionfor me. come out, little girl. ivan will not hurt you. ivan will just trade youfor broker... and give puppy. you like puppy, huh? this is for making me come to the office on a saturday! sorry. apologies.jacob, always a pleasure. ah! tell me where my daughter is, or i will rip out your eyes,shove them up your ass so that you watch my fistpunch down your throat. i don't even knowwho you are. - ah!- mommy! - aj!- ah! sweetie, what did we sayabout gunfights? - serpentine!- oh, how adorably competent. right, drop your guns.do it! - bombs too?- cheryl. all right, let's all be cool. said the man holding my child - as a human shield.- preteen. this is a babysitter'sworst nightmare. yeah, you're definitelynot getting a tip. no, no, no, no, no,let's all settle down. big tony, this isn't like you. i know, it's just,this didn't go down like i thought it would,all right? so more problems with angie? she wants a big wedding, andall the guests are her friends, so... damn it! - is that an irish jig?- dance camp. wh... damn it, if they kill him, we wasted a whole saturdayfor nothing. aj, honey, i'm so sorry,but... go.i'll stay with aunt pammy. sh-she called me aunt pammy.i earned it! he went this way. i'll get my carand meet you outside. i'm pretty sure i left itin the garage last night. hmm, but not totally sure. sergeant strawberry! is that a... oh! yes, lana, it's a lance! that's them up there. ugh, could you ridea little smoother? sure, lana, let me shiftsergeant strawberry's gears. ugh. here, take the reins. i'm only saying, dimitri... was that like 20 feet?that's gotta be a record. i don't know,felt closer to ten. hey, you have running. let me at least have this. broker, i'm thrilledto see you alive. it's oneof my favorite things to be, second only to wine tastingat your vineyard, of course. - how's the harvest?- ah. if the mildew doesn't getmy sauvignons, the beetles will. then we must hurry to getthose grapes in a glass. oh, how i've missed you. okay, what's your trick? and does it workon daughters? instant intimacy?well, the trick is, there is no trick. i connectbecause i genuinely care. like how you both careabout your daughter. see, lana?the criminal negotiator - thinks we're good parents.- mm, not what he said. - wait, where's aj?- she's fine. she wanted to waitin grandma's office. that had better be juice. mommy! aj, i'm so sorry. i wanted this to beyour best saturday ever. but it was. i saw your officeand played with babou - and fired a gun and...- pam! what mattersis we're all safe. the takeaway hereis she called me aunt pammy. and we all helped babysit,which deserves compensation. - you're a multimillionaire.- but i'm not a chump. amen, sister! - can we watch cartoons now?- i would love that. oh, god, yeah, it's juice. oh, my god, i still taste it. someone get me some whiskey. made in georgia. advertise your product or brand herecontact   today\n",
      "Document \n",
      " 2 : ï»¿ lbut it's saturday. it is? then i'll askall the terrorists who threatento destroy our world to take the day off. i just mean i had plansto spend the day with aj. and aj is? my daughter.ah, children. the time goes so fast, but we're allmaking sacrifices. excuse me, waiter? more champagnein the next one. uh, yeah, remind me.what's your sacrifice? calling you on a saturday. it's a simple pickup.an hour max. - especially with...- no, no, no. please don't say it. agent archer as backup. archer on a saturday? as in the dayafter friday night? i don't see the problem. obviously.have you talked to him yet? no, actually. he hasn't picked up the phonefor some reason. oh, yeah, \"for some reason.\" watch any video online with open-subtitlesfree browser extension:   hey, archer. no. main title theme... <font color=#ff00ff>*archer (2009)*</font><font color=#00ff00>season 12  episode 03</font> episode title: <font color=#ffc30f>\"saturday\"</font>aired on: <font color=\"#00ffff\">september 07, 2022.</font> ---:: ads begin ::---duration: 2 min 15 s. enjoy! oooo, tostitos. can you grab the baby gifts? yeah. walk to mommy. what did i miss? she took her first steps! can she do it again? her first steps?? for me??? i missed it? i stepped away from the bowlfor two seconds. i was supposed to read a poem. we're good. ok, i'm telling you,it's her sister. and you call yourselfmy sister. there it is. there it is.we're back on top! whoa, whoa, whoa.what happened? oh, you missed it.probably shouldn't have left. when other carriers take yourmoney and knock you around, boost mobile givesyou an unlimited plan for only $25 a month. the lowest unlimitedplan on the market. on one of america'slargest 5g networks. switch to boost and get anunlimited plan for $25 a month. boost mobile.unleash your power. when you buy appliancesfrom the home depot... switch to boost and get an unlimited plan for$25 a month. everything... just... clicks. compare brandsin-store or online, see them in your space, and schedule free delivery. so when it's installed...it'll just click. save up to $1,052 on the new samsung bespokelaundry set at the home depot. ---:: ads  end ::--- yes,a shower was necessary, lana. it was a night of many fluids. - first of all, gross.- it really was. second of all, hurry up. i had a whole special dayplanned with aj. coney island,a fancy tea place. moist yet first skindoesn't just happen, lana. i'm on step two of ten. hey, do you seea pumice stone out there? fabian wants us to pick upa negotiation specialist. the broker. he's workedwith all the major players; mafia, yakuza, dictators,dirty cops. cops! there was somethingwith police last night. whoo-hoo! police horse! yeah,there's no way that happened. then explainthese lance callouses. anyway, the broker'sa longtime go-between for criminal groups,which means he has intel on all of them.but now he's retiring, so they all want to torture himfor info and then kill him, which means your shower routinecould cost a man his life and me my day with aj. hello? sorry,step five is a face wash. let's skip to step ten. it's not a big deal, robert. just take aj to the officeinstead of my place. it's not aboutthe physical distance, lana. it's the emotional distancefrom you working instead of spending timewith aj. i'm not working. i just wanna show ajwhere mommy works. depressing even if true. - shut up.-  is that archer? - no, it's...- hey, robert. i wanna remind you, these are formative yearsfor aj. one day you'll look backand wish... that you didn't tell mehow to parent? i agree. so since you are working... love the lying to robert,by the way... who exactlyis taking care of aj? seriously? yeah, pam,i'm really sorry. i... no, i mean, this is amazing. aunt pam is gonna planso many great activities. not to go all ms. frizzle,but i might steal a bus. just be at the officein 15 minutes, okay? and one other thing... - hello, pam. where is...- lana's upstairs. she just sent me down to get ajto bring her upstairs to lana, who we've establishedis upstairs. and she can't comedown because... she... - got her period.- oh. that's a few days earlyfor her, so i guessshe would be unprepared. aj, you ready to come alongwith aunt pammy? no,i don't want to call you that. we've been workingon boundaries. oh, that's okay. i'll just have to earn it with activities! activities with lana? sure. all right, there's the broker. but fabian says he's paranoid,so don't spook him or... hey, broker!broker, over here. damn it, archer. i'm too hungoverfor subterfuge, lana. uh, are you broker,or possibly \"the broker\"? depends on who's asking. vagueness, that's fun. hi. look, we're hereon orders from fabian. orders? someone has the twoof you working on a saturday? - how awful!- ugh, do not get me started. i had a whole day plannedwith my daughter. and i planned last nightaround a day that would let me laypassed out near, but not in, - a pool of vomit.- oh, how dreadful! my sympathiesto the both of you. oh, it's okay. i just... wait, how did we get on this? fabian wants us to take you in. oh, fabian sent you. oh, my apologies. you see, as a negotiator, i often get peopleto talk about themselves as a distractionif i need an easy escape. i call it \"instant intimacy.\" wait, so you weren't actuallysympathizing with me? oh, no,with you, it was real. but there are a lot of peopleafter me. can't be too careful. speaking of,fabian and i had a code word. code word? uh, one moment. ooh. might be hardto get that info. i have code phrase. \"this was a one-hour job,and i have a gun.\" archer! but, yeah, sorry.we are in a rush. - do you have kids?- ah, flash bang! damn it. - he got away.- like i give a shit. - what's my one rule?- no more flash bangs. no more flash bangs. my otolaryngologistalready said i'll be luckyif i'm not deaf by 50. there!he's going for the platform. what the hell? hey, pal, i'm the onewho should be mad. this is a shit bike. jesus, shouldn't these bemotorcycle accessible by now? damn it. hey! has anyone seena mischievous little man? yay high?strange air of sophistication? lana? how did you... i got on the train, archer. the \"being good at your job\"option. ooh, that one's fun. it teaches you animalsin english and en espaã±ol. uh, they used puerco for pig,but cerdo is more common. cool!this one's a coloring book. pam,when is my mom getting here? pam? aj? cyril? why are you here? oh,just burning the midnight oil, but midday.that midday oil. and why are you dressedso casually? fine, pam, you got me. sometimes i come in on weekendsto be at work but feel like i can goof off. well, why don't you just... the thought of goofing off during real work hoursterrifies me. lame. um,i wanna do something else. like playwith a pretty dolly maybe? - ha! hyah!- ah! fyi,she's working on boundaries. that's a good boundary. and it gives me an idea.activities! well, the thingyou have to understand is i'm an amateur marathoner, so it's easy for meto outrun people. maybe average people, not me. says the guy i just outran. ha! getting on a traindoesn't count. enough.i'm sorry we chased you, but we do work for fabian. he's just hard to reachon a saturday. - must be nice.- well, i'm still alive, so i'm inclined to believe you. but let me ask,as agents for fabian, do you think he's being honestabout his intent to help me? aha! you don't trust him. - it's not...- not at all. 0%. - well, time to run again.- wait. there are people out therewho actually want to kill you, and they could be anywhere. freeze!the broker's coming with us. no! he comes with us. does no onetake the weekend off? okay, clearly a lot happening. can we just doa quick roll call? - nyet.- copy that, russian mafia. well, god damn it, dmitri. - eh, can we get a move on here?- oh, and classic mafia. thanks, everyone. looks like we havemexican standoff. easy,we don't use that term anymore. plus, none of uswant to kill each other, so it's more of a multiculturalawkward dinner party. can you not antagonizethe mobsters? big hand friend is smart. now, give us brokerand no one gets hurt. except broker, obviously. hey, new idea. i keep the broker,and everyone else gets hurt because he's under theprotection of sterling archer. the world greatest spy. i work for the agency. should that mean something? gentlemen, gentlemen! might i suggest an alternativewhere no one gets hurt, especially me?i mean, i get it. no one wants their secrets out.i'd want me dead too. right,oh, it's nothing personal. for sure. you are okay guy. look, comrade, i get it.i mean, i've got secrets too. gosh, if people knewthat my grand-meemaw still makes dinnerfor me every sunday... oh, my babushka does too. come on, so does my nonna. every sunday night, she makesa parmigiana could blow the... oh, damn it.he did it again. hey, did you knowhe runs marathons? he must bring that up a lot. - ah, a lot.- everyone, stop. - we want the broker.- ha, get in line, buddy. hiros hi!oh, we haven't seen the yakuza since the seattle negotiation. and now we have to outruna marathoner and threecriminal organizations - on a saturday, lana!- no, we don't. i put a tracker on the brokerwhile we had him. because we always lose them. ready, aj?i'm not gonna go easy on you just because you're a... ah! - whew. let's go again.- damn, aj. where'd you learn to fight? my mom signed me upfor judo classes to help my self-confidence.hyah! ah! you know, there's such a thingas too much confidence. now remember, aj, your opponent won't alwaysfight clean, so it's good to mix insome dirty boxing. eyes, throat, groin. or standard boxing,hold the dirt. - yah!- ooh! damn. hey, pam,we're still on mission, but we should be done soon.how's aj? great.she's playing with cyril. no, no, no, no, no! toying with him anyway. can you tell her i'll onlybe gone a little bit longer? plus her next few birthdaysand most holidays. uh, you want me to saythat second part? no.ah! hmm. too easy. can we do something else? i'm not sure krieger's labis the best place - for a child.- preteen. and why are you still in pads? that last throw...which i let you do... - jammed the zipper.- it'll be fine. just don't touch anythingor listen to anything that tells you to free it. dang it, locked. probably for the best.now who wants... my mom always keepsan extra bobby pin in her hair, so i do too. is it normal to beintimidated by a child? for you? absolutely. oh, you gotta be kidding me! the tracker sayshe's in there. so now i'm at coney islandwithout my daughter. yeah,it's not a good look for you. - oh, my god!- you see him? - oh, i see him.- we are mid-mission! and mid-saturday! wow!is that a raman spectrometer? maybe. how do you know that? mom sent me to science camp. it was right aftermusical theater camp. we did a production of \"stomp!\" aunt pammy would loveto see that! not calling you that,and i don't perform on command. - great boundaries!- whoa. a sensory deprivation tank? but why does it haveso many wires? aj, no! - ah! it's opening!- kill whatever comes out. what day is it? - it's... saturday.- what year? the same one. you are unbelievable. i know, winning poinkerson my first try? you knowhow impressive that is? they glue those bottles down,lana. i'll be impressedif you help me find the broker and get back to aj. i actually got this for aj. i know what it's like to havea mother who's neglectful... and withholding. wait, there he is.ugh, can we not? ah! ah! honestly,i'm glad it's you two. - you seem like my best option.- of all bad options. but fabian's betterthan the criminals - who want to kill you.- eh, tough call. stop making this take longer! i've already losthalf the day with aj. half the day of one weekend. it's not one weekend. there's always some missionor emergency or moronwho won't take our help... no offense... i just feel likei'm blowing it as a mother. - i know how you feel.- you have kids? oh, god, no.had an absent mother. it drove me to a life of crime. please? please, pam? okay, just this once. this feels likereally bad babysitting. - we're not giving her a gun.- it's okay. grandma gave meshooting lessons every year for my birthday, except when i was in europebecause she said, \"they traded the rightto bear arms for having limp fries.\" fine,but no automatic weapons. nobody move. aw, hi there, kitty. - aj, you shouldn't...- rah! that's what you sound like. aw, look how ferocious you are. a ferocious little predator. what in the damnzookeeper hell? language, pam. - what are you doing here?- it's saturday. babou likes to use weekendsto mark new territory. so that meansthe shooting range - is now covered in ocelot urine?- yeah! let's say it's justthe shooting range. that's...alarmingly good grouping. holy crap!who are you, even? it's just a hobby. seriously, who is this kid? hmm, that's weird. how does it not worry you? most things don't worry me,and i don't know what you're talking about,so those two reasons. i mean the ideathat we're ruining aj. lana, a million thingswill ruin aj. us, weird friends,a bad week at summer camp. wait, that's your answer?\"she's already ruined\"? i loved my summer camp. i keep my jogging shoesin the basket i made. we get it, you run! we're all messed upby something, lana. there's murdererswith great parents. all you can dois what you're already doing. try your bestand hope you get lucky. that... actually helpsa little. thanks. hey, pam, we've got the broker.everything's fine. we'll be back at the officein ten minutes. cool. uh, might want to make itsooner. oh, boy. why would all thesecriminal organizations go to our office? maybe becausean idiot told them who he was and where he worked. i mean, that's one option. to be clear,we're driving toward a building full of people who wantto torture and kill me? - correct?- i don't wanna put plans in their mouths, but probably. ah.then i'll be getting out now. you didn't check himfor weapons? it's saturday! you can just pull overanywhere. oh, shoot me. i am saving my daughter,you jackhole. no sense dyingfor her daughter. uh, technicallyshe's my daughter too. you two havea child together? yes, but not through sex. this woman took my spermto have a baby. - oh, my god.- go on. yeah,and then she never told me. i told you when i was ready. after aj was bornduring a coup. not that you cared,because you abandoned her. so you faked a kidnappingto make me care? only the first kidnapping. the other one was real. anyway,she's back from switzerland, she barely knows meas a father, and her motheris going through a divorce. you know what?we gotta save this kid. i is ten up, people. until archer and lana get back, as the babysitter,i'm in charge. - yeah, of the kid.- you wanna try me? not yet, but keep yelling! you three,load up in the armory then run and gun these mofos. - aj, \"mofos\" means...- i know. i'll find aj a place to hideuntil it's over. over meaning we win? sure. ah, not this again.oh, well. wait, wait, wait. we all want same thing, yes? the broker dead and bloody. then maybe we work together,comrades. oh, come on, look at us. the broker connecting usone last time. this guy's the glue, you know? god blessthat soon-to-be dead man. can't you rig up an explosive that will take them outall at once? hey,no backseat bomb building. yeah, we didn't tell you howto make your terrible ties. wait,you think i make my ties... ah! aj, i need you to hidein the lab. but i can help. i swear, i'm ready. i know you are, honey,but you shouldn't have to be, so pam's got this one, whether you call heraunt pammy or not. all right, fellas! don't tell mom the babysitter'sabout to kick your ass! ah!taking a lot of bullets here. do you want meto rush this bomb? no,but i don't love being shot. and i don't love criticism. wait, wait, wait, you didn'tisolate the blast radius. it'll take us all out... how are we not dead? i built it so all the murderwent that way. are youour demolitions expert now? it's more of a hobby/religionfor me. come out, little girl. ivan will not hurt you. ivan will just trade youfor broker... and give puppy. you like puppy, huh? this is for making me come to the office on a saturday! sorry. apologies.jacob, always a pleasure. ah! tell me where my daughter is, or i will rip out your eyes,shove them up your ass so that you watch my fistpunch down your throat. i don't even knowwho you are. - ah!- mommy! - aj!- ah! sweetie, what did we sayabout gunfights? - serpentine!- oh, how adorably competent. right, drop your guns.do it! - bombs too?- cheryl. all right, let's all be cool. said the man holding my child - as human shield.- preteen. this is a babysitter'sworst nightmare. yeah, you're definitelynot getting a tip. no, no, no, no, no,let's all settle down. big tony, this isn't like you. i know, it's just,this didn't go down like i thought it would,all right? so more problems with angie? she wants a big wedding, andall the guests are her friends, so... damn it! - is that an irish jig?- dance camp. wh... damn it, if they kill him, we wasted a whole saturdayfor nothing. aj, honey, i'm so sorry,but... go.i'll stay with aunt pammy. sh-she called me aunt pammy.i earned it! he went this way. i'll get my carand meet you outside. i'm pretty sure i left itin the garage last night. hmm, but not totally sure. sergeant strawberry! is that a... oh! yes, lana, it's a lance! that's them up there. ugh, could you ridea little smoother? sure, lana, let me shiftsergeant strawberry's gears. ugh. here, take the reins. i'm only saying, dimitri... was that like 20 feet?that's gotta be a record. i don't know,felt closer to ten. hey, you have running. let me at least have this. broker, i'm thrilledto see you alive. it's oneof my favorite things to be, second only to wine tastingat your vineyard, of course. - how's the harvest?- ah. if the mildew doesn't getmy sauvignons, the beetles will. then we must hurry to getthose grapes in a glass. oh, how i've missed you. okay, what's your trick? and does it workon daughters? instant intimacy?well, the trick is, there is no trick. i connectbecause i genuinely care. like how you both careabout your daughter. see, lana?the criminal negotiator - thinks we're good parents.- mm, not what he said. - wait, where's aj?- she's fine. she wanted to waitin grandma's office. that had better be juice. mommy! aj, i'm so sorry. i wanted this to beyour best saturday ever. but it was. i saw your officeand played with babou - and fired a gun and...- pam! what mattersis we're all safe. the takeaway hereis she called me aunt pammy. and we all helped babysit,which deserves compensation. - you're a multimillionaire.- but i'm not a chump. amen, sister! - can we watch cartoons now?- i would love that. oh, god, yeah, it's juice. oh, my god, i still taste it. someone get me some whiskey. made in georgia.   is deprecated, pleaseimplement rest api from  \n",
      "Document \n",
      " 3 :  lana: but it's saturday. fabian: [gasps] it is? then i'll askall the terrorists who threatento destroy our world to take the day off. i just mean i had plansto spend the day with aj. fabian: and aj is? my daughter.fabian: ah, children. the time goes so fast, but we're allmaking sacrifices. [glass clinking]excuse me, waiter? more champagnein the next one. uh, yeah, remind me.what's your sacrifice? calling you on a saturday. it's a simple pickup.an hour max. - especially with...- no, no, no. please don't say it. fabian:agent archer as backup. archer on a saturday? as in the dayafter friday night? fabian:i don't see the problem. [chuckles] obviously.have you talked to him yet? no, actually. he hasn't picked up the phonefor some reason. oh, yeah, \"for some reason.\" [cool jazz music] [phone buzzes] [âª âª [clears throat]hey, archer. no. [main title theme] [âª âª support us and become vip member to remove all ads from   archer: yes,a shower was necessary, lana. it was a night of many fluids. first of all, gross.archer: it really was. second of all, hurry up. i had a whole special dayplanned with aj. coney island,a fancy tea place. archer: moist yet firm skindoesn't just happen, lana. i'm on step two of ten. hey, do you seea pumice stone out there? fabian wants us to pick upa negotiation specialist. codename: the broker. he's workedwith all the major players; mafia, yakuza, dictators,dirty cops. [gasps] cops! there was somethingwith police last night. [rock music] whoo-hoo! police horse![siren wailing] [horse whinnies] yeah,there's no way that happened. archer: then explainthese lance callouses. anyway, the broker'sa longtime go-between for criminal groups,which means he has intel on all of them.but now he's retiring, so they all want to torture himfor info and then kill him, which means your shower routinecould cost a man his life and me my day with aj. hello? archer: [muffled] sorry,step five is a face wash. let's skip to step ten.[toilet flushes] [archer yells] it's not a big deal, robert. just take aj to the officeinstead of my place. robert: it's not aboutthe physical distance, lana. it's the emotional distancefrom you working instead of spending timewith aj. i'm not working. i just wanna show ajwhere mommy works. depressing even if true. - shut up.- robert: is that archer? - no, it's...- hey, robert. robert:i wanna remind you, these are formative yearsfor aj. one day you'll look backand wish... that you didn't tell mehow to parent? i agree.[phone beeps] so since you are working... love the lying to robert,by the way... who exactlyis taking care of aj? seriously? lana: yeah, pam,i'm really sorry. i... no, i mean, this is amazing. aunt pam is gonna planso many great activities. not to go all ms. frizzle,but i might steal a bus. lana: just be at the officein 15 minutes, okay? and one other thing... - hello, pam. where is...- lana's upstairs. she just sent me down to get ajto bring her upstairs to lana, who we've establishedis upstairs. and she can't comedown because... she... - got her period.- oh. that's a few days earlyfor her, so i guessshe would be unprepared. aj, you ready to come alongwith aunt pammy? no,i don't want to call you that. we've been workingon boundaries. oh, that's okay. i'll just have to earn it with activities! activities with lana? sure. lana:all right, there's the broker. but fabian says he's paranoid,so don't spook him or... hey, broker!broker, over here. [sighs] damn it, archer. i'm too hungoverfor subterfuge, lana. uh, are you broker,or possibly \"the broker\"? depends on who's asking. vagueness, that's fun. hi. look, we're hereon orders from fabian. orders? someone has the twoof you working on a saturday? - how awful!- ugh, do not get me started. i had a whole day plannedwith my daughter. and i planned last nightaround a day that would let me laypassed out near, but not in, - a pool of vomit.- oh, how dreadful! my sympathiesto the both of you. oh, it's okay. i just... wait, how did we get on this? fabian wants us to take you in. oh, fabian sent you. oh, my apologies. you see, as a negotiator, i often get peopleto talk about themselves as a distractionif i need an easy escape. i call it \"instant intimacy.\"[chuckles] wait, so you weren't actuallysympathizing with me? oh, no,with you, it was real. but there are a lot of peopleafter me. can't be too careful. speaking of,fabian and i had a code word. code word? uh, one moment. [phone buzzing] - [light music playing]- ooh. [phone buzzing] might be hardto get that info. i have a code phrase. \"this was a one-hour job,and i have a gun.\" archer! but, yeah, sorry.we are in a rush. - do you have kids?- ah, flash bang! [lana and archer groaning]lana: damn it. - he got away.- [coughs] like i give a shit. - what's my one rule?- [sighs] no more flash bangs. no more flash bangs. my otolaryngologistalready said i'll be luckyif i'm not deaf by 50. there!he's going for the platform. [exciting music] biker: what the hell? hey, pal, i'm the onewho should be mad. this is a shit bike. [engine rumbling] [âª âª jesus, shouldn't these bemotorcycle accessible by now? [âª âª [both yelling] damn it. hey! has anyone seena mischievous little man? yay high?strange air of sophistication? [lana clears throat]lana? how did you... i got on the train, archer. the \"being good at your job\"option. ooh, that one's fun. it teaches you animalsin english and en espaã±ol. uh, they used puerco for pig,but cerdo is more common. cool!this one's a coloring book. pam,when is my mom getting here? [elevator dings] pam? aj? cyril? why are you here? oh,just burning the midnight oil, but midday.that midday oil. and why are you dressedso casually? fine, pam, you got me. sometimes i come in on weekendsto be at work but feel like i can goof off. well, why don't you just... the thought of goofing off during real work hoursterrifies me. [chuckles] lame. um,i wanna do something else. like playwith a pretty dolly maybe? - ha! hyah!- ah! [groans] [chuckles] fyi,she's working on boundaries. [weakly]that's a good boundary. and it gives me an idea.activities! well, the thingyou have to understand is i'm an amateur marathoner, so it's easy for meto outrun people. maybe average people, not me. says the guy i just outran. ha! getting on a traindoesn't count. enough.i'm sorry we chased you, but we do work for fabian. he's just hard to reachon a saturday. - must be nice.- well, i'm still alive, so i'm inclined to believe you. but let me ask,as agents for fabian, do you think he's being honestabout his intent to help me? aha! you don't trust him. - it's not...- not at all. 0%. - well, time to run again.- wait. there are people out therewho actually want to kill you, and they could be anywhere. freeze!the broker's coming with us. no! he comes with us. [tense music] does no onetake the weekend off? okay, clearly a lot happen can we just doa quick roll call? - nyet.- copy that, russian mafia. well, god damn it, dmitri. - eh, can we get a move on here?- oh, and classic mafia. thanks, everyone. looks like we havemexican standoff. easy,we don't use that term anymore. plus, none of uswant to kill each other, so it's more of a multiculturalawkward dinner party. can you not antagonizethe mobsters? big hand friend is smart. now, give us brokerand no one gets hurt. except broker, obviously. hey, new idea. i keep the broker,and everyone else gets hurt because he's under theprotection of sterling archer. the world greatest spy. i work for the agency. should that mean something? - [gun cocks]- gentlemen, gentlemen! might i suggest an alternativewhere no one gets hurt, especially me?i mean, i get it. no one wants their secrets out.i'd want me dead too. right,oh, it's nothing personal. for sure. you are okay guy. look, comrade, i get it.i mean, i've got secrets too. gosh, if people knewthat my grand-meemaw still makes dinnerfor me every sunday... oh, my babushka does too. come on, so does my nonna. every sunday night, she makesa parmigiana could blow the... oh, damn it.he did it again. hey, did you knowhe runs marathons? he must bring that up a lot. - ah, a lot.- everyone, stop. - we want the broker.- ha, get in line, buddy. hiros hi!oh, we haven't seen the yakuza since the seattle negotiation. and now we have to outruna marathoner and threecriminal organizations - on a saturday, lana!- no, we don't. i put a tracker on the brokerwhile we had him. [sighs]because we always lose them. ready, aj?i'm not gonna go easy on you just because you're a... ah! - whew. let's go again.- damn, aj. where'd you learn to fight? my mom signed me upfor judo classes to help my self-confidence.hyah! ah! you know, there's such a thingas too much confidence. now remember, aj, your opponent won't alwaysfight clean, so it's good to mix insome dirty boxing. eyes, throat, groin. or standard boxing,hold the dirt. - aj: yah!- ooh! [whimpers] damn.[phone rings] lana: hey, pam,we're still on mission, but we should be done soon.how's aj? great.she's playing with cyril. no, no, no, no, no![groans] [chuckles]toying with him anyway. can you tell her i'll onlybe gone a little bit longer? plus her next few birthdaysand most holidays. pam: uh, you want me to saythat second part? - no.- cyril: ah! hmm. too easy.[phone beeps] can we do something else? [ominous music] i'm not sure krieger's labis the best place - for a child.- preteen. and why are you still in pads? that last throw...which i let you do... - jammed the zipper.- it'll be fine. just don't touch anythingor listen to anything that tells you to free it. [door buzzes]dang it, locked. probably for the best.now who wants... my mom always keepsan extra bobby pin in her hair, so i do too. is it normal to beintimidated by a child? for you? absolutely. oh, you gotta be kidding me! the tracker sayshe's in there. so now i'm at coney islandwithout my daughter. yeah,it's not a good look for you. - [gasps] oh, my god!- you see him? - oh, i see him.- we are mid-mission! archer: and mid-saturday! [ominous music] wow!is that a raman spectrometer? maybe. how do you know that? mom sent me to science camp. it was right aftermusical theater camp. we did a production of \"stomp!\" aunt pammy would loveto see that! not calling you that,and i don't perform on command. - great boundaries!- whoa. a sensory deprivation tank? but why does it haveso many wires? aj, no! - cyril: ah! it's opening!- kill whatever comes out. [gasps] what day is it? - it's... saturday.- what year? the same one. you are unbelievable. i know, winning poinkerson my first try? you knowhow impressive that is? they glue those bottles down,lana. i'll be impressedif you help me find the broker and get back to aj. i actually got this for aj. i know what it's like to havea mother who's neglectful... [fabric tearing] and withholding. wait, there he is.archer: ugh, can we not? [exciting music] - [archer grunts]- ah! [winces] ah! honestly,i'm glad it's you two. - you seem like my best option.- of all bad options. but fabian's betterthan the criminals - who want to kill you.- eh, tough call. stop making this take longer! i've already losthalf the day with aj. half the day of one weekend. it's not one weekend. there's always some missionor emergency or moronwho won't take our help... no offense... i just feel likei'm blowing it as a mother. - i know how you feel.- you have kids? oh, god, no.had an absent mother. it drove me to a life of crime. please? please, pam? okay, just this once. this feels likereally bad babysitting. - we're not giving her a gun.- it's okay. grandma gave meshooting lessons every year for my birthday, except when i was in europebecause she said, \"they traded the rightto bear arms for having limp fries.\" fine,but no automatic weapons. [epic music] [growling, hissing] nobody move. - [snarling]- aw, hi there, kitty. - aj, you shouldn't...- rah! that's what you sound like. aw, look how ferocious you are.[babou purring] a ferocious little predator. what in the damnzookeeper hell? [gasps] language, pam. - what are you doing here?- it's saturday. babou likes to use weekendsto mark new territory. so that meansthe shooting range - is now covered in ocelot urine?- yeah! let's say it's justthe shooting range. [gunfire] that's...alarmingly good grouping. holy crap!who are you, even? it's just a hobby. seriously, who is this kid? - [alarm blaring]- hmm, that's weird. lana:how does it not worry you? most things don't worry me,and i don't know what you're talking about,so those two reasons. i mean the ideathat we're ruining aj. lana, a million thingswill ruin aj. us, weird friends,a bad week at summer camp. wait, that's your answer?\"she's already ruined\"? i loved my summer camp. i keep my jogging shoesin the basket i made. we get it, you run! we're all messed upby something, lana. there's murdererswith great parents. all you can dois what you're already doing. try your bestand hope you get lucky. that... actually helpsa little. thanks. hey, pam, we've got the broker.everything's fine. we'll be back at the officein ten minutes. pam: cool. uh, might want to make itsooner. oh, boy. why would all thesecriminal go to our office? maybe becausean idiot told them who he was and where he worked. i mean, that's one option. to be clear,we're driving toward a building full of people who wantto torture and kill me? - correct?- i don't wanna put plans in their mouths, but probably. ah.then i'll be getting out now. you didn't check himfor weapons? it's saturday! you can just pull overanywhere. oh, shoot me. i am saving my daughter,you jackhole. no sense dyingfor her daughter. uh, technicallyshe's my daughter too. you two havea child together? yes, but not through sex. this woman took my spermto have a baby. - lana: oh, my god.- go on. yeah,and then she never told me. i told you when i was ready. after aj was bornduring a coup. not that you cared,because you abandoned her. so you faked a kidnappingto make me care? only the first kidnapping. the other one was real. anyway,she's back from switzerland, she barely knows meas a father, and her motheris going through a divorce. you know what?we gotta save this kid. [engine roars] listen up, people. until archer and lana get back, as the babysitter,i'm in charge. - yeah, of the kid.- you wanna try me? not yet, but keep yelling! you three,load up in the armory then run and gun these mofos. - aj, \"mofos\" means...- i know. i'll find aj a place to hideuntil it's over. over meaning we win? sure. [intense music] [guns cocking] [âª âª ah, not this again.oh, well. [guns cocking] wait, wait, wait. we all want same thing, yes? the broker dead and bloody. then maybe we work together,comrades. oh, come on, look at us. the broker connecting usone last time. this guy's the glue, you know? god blessthat soon-to-be dead man. [elevator dinging] can't you rig up an explosive that will take them outall at once? hey,no backseat bomb building. yeah, we didn't tell you howto make your terrible ties. wait,you think i make my ties? [elevator dings, gunfire] ah! aj, i need you to hidein the lab. but i can help. i swear, i'm ready. i know you are, honey,but you shouldn't have to be, so pam's got this one, whether you call heraunt pammy or not. [cracking knuckles]all right, fellas! don't tell mom the babysitter'sabout to kick your ass! [all grunting] [gunfire] ah!taking a lot of bullets here. do you want meto rush this bomb? no,but i don't love being shot. and i don't love criticism. wait, wait, wait, you didn'tisolate the blast radius. it'll take us all out... [coughs] how are we not dead? i built it so all the murderwent that way. are youour demolitions expert now? it's more of a hobby/religionfor me. come out, little girl. ivan will not hurt you. ivan will just trade youfor broker... and give puppy. you like puppy, huh? [babou growling, ivan screaming] this is for making me come to the office on a saturday![both groaning] sorry. apologies.jacob, always a pleasure. ah! [gun clicks] [gun clicks] tell me where my daughter is, or i will rip out your eyes,shove them up your ass so that you watch my fistpunch down your throat. i don't even knowwho you are. - ah!- mommy! - aj!- ah! sweetie, what did we sayabout gunfights? - serpentine!- oh, how adorably competent. right, drop your guns.do it! - bombs too?- cheryl. all right, let's all be cool. said the man holding my child - as a human shield.- preteen. this is a babysitter'sworst nightmare. yeah, you're definitelynot getting a tip. no, no, no, no, no,let's all settle down. big tony, this isn't like you. i know, it's just,this didn't go down like i thought it would,all right? so more problems with angie? she wants a big wedding, andall the guests are her friends, so...[phone rings] damn it![shoes tapping rhythmically] - is that an irish jig?- dance camp. wh... damn it, if they kill him, we wasted a whole saturdayfor nothing. aj, honey, i'm so sorry,but... go.i'll stay with aunt pammy. sh-she called me aunt pammy.i earned it! - [elevator dings]- he went this way. i'll get my carand meet you outside. i'm pretty sure i left itin the garage last night. hmm, but not totally sure. [horse whinnies]sergeant strawberry! - [horse whinnies]- is that a... oh! yes, lana, it's a lance! lana: that's them up there. ugh, could you ridea little smoother? sure, lana, let me shiftsergeant strawberry's gears. [glass shatters, metal crunches] ugh. here, take the reins. - [archer yelling]- i'm only saying, dimitri... [archer laughing] was that like 20 feet?that's gotta be a record. i don't know,felt closer to ten. hey, you have running. let me at least have this. [elevator dings] broker, i'm thrilledto see you alive. it's oneof my favorite things to be, second only to wine tastingat your vineyard, of course. - how's the harvest?- ah. if the mildew doesn't getmy sauvignons, the beetles will. then we must hurry to getthose grapes in a glass. [chuckles] oh, how i've missed you. - [chuckles]- okay, what's your trick? and does it workon daughters? instant intimacy?well, the trick is, there is no trick. i connectbecause i genuinely care. like how you both careabout your daughter. see, lana?the criminal negotiator - thinks we're good parents.- mm, not what he said. - wait, where's aj?- she's fine. she wanted to waitin grandma's office. [cool music] that had better be juice. mommy! aj, i'm so sorry. i wanted this to beyour best saturday ever. but it was. i saw your officeand played with babou - and fired a gun and...- pam! what mattersis we're all safe. the takeaway hereis she called me aunt pammy. and we all helped babysit,which deserves compensation. - you're a multimillionaire.- but i'm not a chump. amen, sister! - can we watch cartoons now?- i would love that. oh, god, yeah, it's juice. oh, my god, i still taste it. someone get me some whiskey. made in georgia. please rate this subtitle at   other users to choose the best subtitles\n"
     ]
    }
   ],
   "source": [
    "# Retrieve top similar documents\n",
    "\n",
    "Top_Picks = Score.argsort()[0][::-1]\n",
    "Top_n = 3\n",
    "retrieved_documents = [df['content'][idx] for idx in Top_Picks[:Top_n]]\n",
    "\n",
    "print(\"Top\", Top_n, \"documents similar to query:\", User_Input)\n",
    "for i, doc in enumerate(retrieved_documents, 1):\n",
    "    print(\"Document \\n\", i, \":\", doc)"
   ]
  },
  {
   "cell_type": "code",
   "execution_count": 23,
   "id": "b3a445e8",
   "metadata": {},
   "outputs": [
    {
     "name": "stdout",
     "output_type": "stream",
     "text": [
      "Enter your line: broker\n"
     ]
    }
   ],
   "source": [
    "User_Input = input(\"Enter your line: \")\n",
    "User_Vector = CV.transform([User_Input])\n",
    "User_TFIDF = TF_T.transform(User_Vector)"
   ]
  },
  {
   "cell_type": "code",
   "execution_count": 24,
   "id": "80c8fea4",
   "metadata": {},
   "outputs": [],
   "source": [
    "Score = cosine_similarity(User_TFIDF, TFIDF_M)"
   ]
  },
  {
   "cell_type": "code",
   "execution_count": 25,
   "id": "b063e7ed",
   "metadata": {},
   "outputs": [],
   "source": [
    "def generate_summarized_documents(User_Input, retrieved_documents):\n",
    "    summarized_documents = {}\n",
    "    for i, doc in enumerate(retrieved_documents, 1):\n",
    "        summary = \"Summary: \" + doc[:] + \"\" if len(doc) > 150 else \"Summary: \" + doc\n",
    "        summarized_documents[\"Document \" + str(i)] = summary\n",
    "    return summarized_documents"
   ]
  },
  {
   "cell_type": "code",
   "execution_count": 26,
   "id": "37a3f6bc",
   "metadata": {},
   "outputs": [],
   "source": [
    "Top_Picks = Score.argsort()[0][::-1]\n",
    "Top_n = 3\n",
    "retrieved_documents = [df['content'][idx] for idx in Top_Picks[:Top_n]]"
   ]
  },
  {
   "cell_type": "code",
   "execution_count": 27,
   "id": "3d773fa7",
   "metadata": {},
   "outputs": [
    {
     "name": "stdout",
     "output_type": "stream",
     "text": [
      "Document 1:\n",
      "Summary:  but it's saturday. it is? then i'll askall the terrorists who threatento destroy our world to take the day off. i just mean i had plansto spend the day with aj. and aj is? my daughter.ah, children. the time goes so fast, but we're allmaking sacrifices. excuse me, waiter? more champagnein the next one. uh, yeah, remind me.what's your sacrifice? calling you on a saturday. it's a simple pickup.an hour max. - especially with...- no, no, no. please don't say it. agent archer as backup. archer on a saturday? as in the dayafter friday night? i don't see the problem. obviously.have you talked to him yet? no, actually. he hasn't picked up the phonefor some reason. oh, yeah, \"for some reason.\"  hey, archer. no.  support us and become vip member to remove all ads from   yes,a shower was necessary, lana. it was a night of many fluids. first of all, gross.it really was. second of all, hurry up. i had a whole special dayplanned with aj. coney island,a fancy tea place. moist yet firm skindoesn't just happen, lana. i'm on step two of ten. hey, do you seea pumice stone out there? fabian wants us to pick upa negotiation specialist. the broker. he's workedwith all the major players; mafia, yakuza, dictators,dirty cops. cops! there was somethingwith police last night. whoo-hoo! police horse! yeah,there's no way that happened. then explainthese lance callouses. anyway, the broker'sa longtime go-between for criminal groups,which means he has intel on all of them.but now he's retiring, so they all want to torture himfor info and then kill him, which means your shower routinecould cost a man his life and me my day with aj. hello? sorry,step five is a face wash. let's skip to step ten. it's not a big deal, robert. just take aj to the officeinstead of my place. it's not aboutthe physical distance, lana. it's the emotional distancefrom you working instead of spending timewith aj. i'm not working. i just wanna show ajwhere mommy works. depressing even if true. - shut up.- is that archer? - no, it's...- hey, robert. i wanna remind you, these are formative yearsfor aj. one day you'll look backand wish... that you didn't tell mehow to parent? i agree. so since you are working... love the lying to robert,by the way... who exactlyis taking care of aj? seriously? yeah, pam,i'm really sorry. i... no, i mean, this is amazing. aunt pam is gonna planso many great activities. not to go all ms. frizzle,but i might steal a bus. just be at the officein 15 minutes, okay? and one other thing... - hello, pam. where is...- lana's upstairs. she just sent me down to get ajto bring her upstairs to lana, who we've establishedis upstairs. and she can't comedown because... she... - got her period.- oh. that's a few days earlyfor her, so i guessshe would be unprepared. aj, you ready to come alongwith aunt pammy? no,i don't want to call you that. we've been workingon boundaries. oh, that's okay. i'll just have to earn it with activities! activities with lana? sure. all right, there's the broker. but fabian says he's paranoid,so don't spook him or... hey, broker!broker, over here. damn it, archer. i'm too hungoverfor subterfuge, lana. uh, are you broker,or possibly \"the broker\"? depends on who's asking. vagueness, that's fun. hi. look, we're hereon orders from fabian. orders? someone has the twoof you working on a saturday? - how awful!- ugh, do not get me started. i had a whole day plannedwith my daughter. and i planned last nightaround a day that would let me laypassed out near, but not in, - a pool of vomit.- oh, how dreadful! my sympathiesto the both of you. oh, it's okay. i just... wait, how did we get on this? fabian wants us to take you in. oh, fabian sent you. oh, my apologies. you see, as a negotiator, i often get peopleto talk about themselves as a distractionif i need an easy escape. i call it \"instant intimacy.\" wait, so you weren't actuallysympathizing with me? oh, no,with you, it was real. but there are a lot of peopleafter me. can't be too careful. speaking of,fabian and i had a code word. code word? uh, one moment. ooh. might be hardto get that info. i have a code phrase. \"this was a one-hour job,and i have a gun.\" archer! but, yeah, sorry.we are in a rush. - do you have kids?- ah, flash bang! damn it. - he got away.- like i give a shit. - what's my one rule?- no more flash bangs. no more flash bangs. my otolaryngologistalready said i'll be luckyif i'm not deaf by 50. there!he's going for the platform. what the hell? hey, pal, i'm the onewho should be mad. this is a shit bike.  jesus, shouldn't these bemotorcycle accessible by now?  damn it. hey! has anyone seena mischievous little man? yay high?strange air of sophistication? lana? how did you... i got on the train, archer. the \"being good at your job\"option. ooh, that one's fun. it teaches you animalsin english and en espaã±ol. uh, they used puerco for pig,but cerdo is more common. cool!this one's a coloring book. pam,when is my mom getting here? pam? aj? cyril? why are you here? oh,just burning the midnight oil, but midday.that midday oil. and why are you dressedso casually? fine, pam, you got me. sometimes i come in on weekendsto be at work but feel like i can goof off. well, why don't you just... the thought of goofing off during real work hoursterrifies me. lame. um,i wanna do something else. like playwith a pretty dolly maybe? - ha! hyah!- ah! fyi,she's working on boundaries. that's a good boundary. and it gives me an idea.activities! well, the thingyou have to understand is i'm an amateur marathoner, so it's easy for meto outrun people. maybe average people, not me. says the guy i just outran. ha! getting on a traindoesn't count. enough.i'm sorry we chased you, but we do work for fabian. he's just hard to reachon a saturday. - must be nice.- well, i'm still alive, so i'm inclined to believe you. but let me ask,as agents for fabian, do you think he's being honestabout his intent to help me? aha! you don't trust him. - it's not...- not at all. 0%. - well, time to run again.- wait. there are people out therewho actually want to kill you, and they could be anywhere. freeze!the broker's coming with us. no! he comes with us. does no onetake the weekend off? okay, clearly a lot happen can we just doa quick roll call? - nyet.- copy that, russian mafia. well, god damn it, dmitri. - eh, can we get a move on here?- oh, and classic mafia. thanks, everyone. looks like we havemexican standoff. easy,we don't use that term anymore. plus, none of uswant to kill each other, so it's more of a multiculturalawkward dinner party. can you not antagonizethe mobsters? big hand friend is smart. now, give us brokerand no one gets hurt. except broker, obviously. hey, new idea. i keep the broker,and everyone else gets hurt because he's under theprotection of sterling archer. the world greatest spy. i work for the agency. should that mean something? gentlemen, gentlemen! might i suggest an alternativewhere no one gets hurt, especially me?i mean, i get it. no one wants their secrets out.i'd want me dead too. right,oh, it's nothing personal. for sure. you are okay guy. look, comrade, i get it.i mean, i've got secrets too. gosh, if people knewthat my grand-meemaw still makes dinnerfor me every sunday... oh, my babushka does too. come on, so does my nonna. every sunday night, she makesa parmigiana could blow the... oh, damn it.he did it again. hey, did you knowhe runs marathons? he must bring that up a lot. - ah, a lot.- everyone, stop. - we want the broker.- ha, get in line, buddy. hiros hi!oh, we haven't seen the yakuza since the seattle negotiation. and now we have to outruna marathoner and threecriminal organizations - on a saturday, lana!- no, we don't. i put a tracker on the brokerwhile we had him. because we always lose them. ready, aj?i'm not gonna go easy on you just because you're a... ah! - whew. let's go again.- damn, aj. where'd you learn to fight? my mom signed me upfor judo classes to help my self-confidence.hyah! ah! you know, there's such a thingas too much confidence. now remember, aj, your opponent won't alwaysfight clean, so it's good to mix insome dirty boxing. eyes, throat, groin. or standard boxing,hold the dirt. - yah!- ooh! damn. hey, pam,we're still on mission, but we should be done soon.how's aj? great.she's playing with cyril. no, no, no, no, no! toying with him anyway. can you tell her i'll onlybe gone a little bit longer? plus her next few birthdaysand most holidays. uh, you want me to saythat second part? - no.- ah! hmm. too easy. can we do something else? i'm not sure krieger's labis the best place - for a child.- preteen. and why are you still in pads? that last throw...which i let you do... - jammed the zipper.- it'll be fine. just don't touch anythingor listen to anything that tells you to free it. dang it, locked. probably for the best.now who wants... my mom always keepsan extra bobby pin in her hair, so i do too. is it normal to beintimidated by a child? for you? absolutely. oh, you gotta be kidding me! the tracker sayshe's in there. so now i'm at coney islandwithout my daughter. yeah,it's not a good look for you. - oh, my god!- you see him? - oh, i see him.- we are mid-mission! and mid-saturday! wow!is that a raman spectrometer? maybe. how do you know that? mom sent me to science camp. it was right aftermusical theater camp. we did a production of \"stomp!\" aunt pammy would loveto see that! not calling you that,and i don't perform on command. - great boundaries!- whoa. a sensory deprivation tank? but why does it haveso many wires? aj, no! - ah! it's opening!- kill whatever comes out. what day is it? - it's... saturday.- what year? the same one. you are unbelievable. i know, winning poinkerson my first try? you knowhow impressive that is? they glue those bottles down,lana. i'll be impressedif you help me find the broker and get back to aj. i actually got this for aj. i know what it's like to havea mother who's neglectful... and withholding. wait, there he is.ugh, can we not? ah! ah! honestly,i'm glad it's you two. - you seem like my best option.- of all bad options. but fabian's betterthan the criminals - who want to kill you.- eh, tough call. stop making this take longer! i've already losthalf the day with aj. half the day of one weekend. it's not one weekend. there's always some missionor emergency or moronwho won't take our help... no offense... i just feel likei'm blowing it as a mother. - i know how you feel.- you have kids? oh, god, no.had an absent mother. it drove me to a life of crime. please? please, pam? okay, just this once. this feels likereally bad babysitting. - we're not giving her a gun.- it's okay. grandma gave meshooting lessons every year for my birthday, except when i was in europebecause she said, \"they traded the rightto bear arms for having limp fries.\" fine,but no automatic weapons. nobody move. aw, hi there, kitty. - aj, you shouldn't...- rah! that's what you sound like. aw, look how ferocious you are. a ferocious little predator. what in the damnzookeeper hell? language, pam. - what are you doing here?- it's saturday. babou likes to use weekendsto mark new territory. so that meansthe shooting range - is now covered in ocelot urine?- yeah! let's say it's justthe shooting range. that's...alarmingly good grouping. holy crap!who are you, even? it's just a hobby. seriously, who is this kid? hmm, that's weird. how does it not worry you? most things don't worry me,and i don't know what you're talking about,so those two reasons. i mean the ideathat we're ruining aj. lana, a million thingswill ruin aj. us, weird friends,a bad week at summer camp. wait, that's your answer?\"she's already ruined\"? i loved my summer camp. i keep my jogging shoesin the basket i made. we get it, you run! we're all messed upby something, lana. there's murdererswith great parents. all you can dois what you're already doing. try your bestand hope you get lucky. that... actually helpsa little. thanks. hey, pam, we've got the broker.everything's fine. we'll be back at the officein ten minutes. cool. uh, might want to make itsooner. oh, boy. why would all thesecriminal go to our office? maybe becausean idiot told them who he was and where he worked. i mean, that's one option. to be clear,we're driving toward a building full of people who wantto torture and kill me? - correct?- i don't wanna put plans in their mouths, but probably. ah.then i'll be getting out now. you didn't check himfor weapons? it's saturday! you can just pull overanywhere. oh, shoot me. i am saving my daughter,you jackhole. no sense dyingfor her daughter. uh, technicallyshe's my daughter too. you two havea child together? yes, but not through sex. this woman took my spermto have a baby. - oh, my god.- go on. yeah,and then she never told me. i told you when i was ready. after aj was bornduring a coup. not that you cared,because you abandoned her. so you faked a kidnappingto make me care? only the first kidnapping. the other one was real. anyway,she's back from switzerland, she barely knows meas a father, and her motheris going through a divorce. you know what?we gotta save this kid. listen up, people. until archer and lana get back, as the babysitter,i'm in charge. - yeah, of the kid.- you wanna try me? not yet, but keep yelling! you three,load up in the armory then run and gun these mofos. - aj, \"mofos\" means...- i know. i'll find aj a place to hideuntil it's over. over meaning we win? sure.  ah, not this again.oh, well. wait, wait, wait. we all want same thing, yes? the broker dead and bloody. then maybe we work together,comrades. oh, come on, look at us. the broker connecting usone last time. this guy's the glue, you know? god blessthat soon-to-be dead man. can't you rig up an explosive that will take them outall at once? hey,no backseat bomb building. yeah, we didn't tell you howto make your terrible ties. wait,you think i make my ties? ah! aj, i need you to hidein the lab. but i can help. i swear, i'm ready. i know you are, honey,but you shouldn't have to be, so pam's got this one, whether you call heraunt pammy or not. all right, fellas! don't tell mom the babysitter'sabout to kick your ass! ah!taking a lot of bullets here. do you want meto rush this bomb? no,but i don't love being shot. and i don't love criticism. wait, wait, wait, you didn'tisolate the blast radius. it'll take us all out... how are we not dead? i built it so all the murderwent that way. are youour demolitions expert now? it's more of a hobby/religionfor me. come out, little girl. ivan will not hurt you. ivan will just trade youfor broker... and give puppy. you like puppy, huh? this is for making me come to the office on a saturday! sorry. apologies.jacob, always a pleasure. ah! tell me where my daughter is, or i will rip out your eyes,shove them up your ass so that you watch my fistpunch down your throat. i don't even knowwho you are. - ah!- mommy! - aj!- ah! sweetie, what did we sayabout gunfights? - serpentine!- oh, how adorably competent. right, drop your guns.do it! - bombs too?- cheryl. all right, let's all be cool. said the man holding my child - as a human shield.- preteen. this is a babysitter'sworst nightmare. yeah, you're definitelynot getting a tip. no, no, no, no, no,let's all settle down. big tony, this isn't like you. i know, it's just,this didn't go down like i thought it would,all right? so more problems with angie? she wants a big wedding, andall the guests are her friends, so... damn it! - is that an irish jig?- dance camp. wh... damn it, if they kill him, we wasted a whole saturdayfor nothing. aj, honey, i'm so sorry,but... go.i'll stay with aunt pammy. sh-she called me aunt pammy.i earned it! he went this way. i'll get my carand meet you outside. i'm pretty sure i left itin the garage last night. hmm, but not totally sure. sergeant strawberry! is that a... oh! yes, lana, it's a lance! that's them up there. ugh, could you ridea little smoother? sure, lana, let me shiftsergeant strawberry's gears. ugh. here, take the reins. i'm only saying, dimitri... was that like 20 feet?that's gotta be a record. i don't know,felt closer to ten. hey, you have running. let me at least have this. broker, i'm thrilledto see you alive. it's oneof my favorite things to be, second only to wine tastingat your vineyard, of course. - how's the harvest?- ah. if the mildew doesn't getmy sauvignons, the beetles will. then we must hurry to getthose grapes in a glass. oh, how i've missed you. okay, what's your trick? and does it workon daughters? instant intimacy?well, the trick is, there is no trick. i connectbecause i genuinely care. like how you both careabout your daughter. see, lana?the criminal negotiator - thinks we're good parents.- mm, not what he said. - wait, where's aj?- she's fine. she wanted to waitin grandma's office. that had better be juice. mommy! aj, i'm so sorry. i wanted this to beyour best saturday ever. but it was. i saw your officeand played with babou - and fired a gun and...- pam! what mattersis we're all safe. the takeaway hereis she called me aunt pammy. and we all helped babysit,which deserves compensation. - you're a multimillionaire.- but i'm not a chump. amen, sister! - can we watch cartoons now?- i would love that. oh, god, yeah, it's juice. oh, my god, i still taste it. someone get me some whiskey. made in georgia. advertise your product or brand herecontact   today\n",
      "\n",
      "Document 2:\n",
      "Summary: ï»¿ lbut it's saturday. it is? then i'll askall the terrorists who threatento destroy our world to take the day off. i just mean i had plansto spend the day with aj. and aj is? my daughter.ah, children. the time goes so fast, but we're allmaking sacrifices. excuse me, waiter? more champagnein the next one. uh, yeah, remind me.what's your sacrifice? calling you on a saturday. it's a simple pickup.an hour max. - especially with...- no, no, no. please don't say it. agent archer as backup. archer on a saturday? as in the dayafter friday night? i don't see the problem. obviously.have you talked to him yet? no, actually. he hasn't picked up the phonefor some reason. oh, yeah, \"for some reason.\" watch any video online with open-subtitlesfree browser extension:   hey, archer. no. main title theme... <font color=#ff00ff>*archer (2009)*</font><font color=#00ff00>season 12  episode 03</font> episode title: <font color=#ffc30f>\"saturday\"</font>aired on: <font color=\"#00ffff\">september 07, 2022.</font> ---:: ads begin ::---duration: 2 min 15 s. enjoy! oooo, tostitos. can you grab the baby gifts? yeah. walk to mommy. what did i miss? she took her first steps! can she do it again? her first steps?? for me??? i missed it? i stepped away from the bowlfor two seconds. i was supposed to read a poem. we're good. ok, i'm telling you,it's her sister. and you call yourselfmy sister. there it is. there it is.we're back on top! whoa, whoa, whoa.what happened? oh, you missed it.probably shouldn't have left. when other carriers take yourmoney and knock you around, boost mobile givesyou an unlimited plan for only $25 a month. the lowest unlimitedplan on the market. on one of america'slargest 5g networks. switch to boost and get anunlimited plan for $25 a month. boost mobile.unleash your power. when you buy appliancesfrom the home depot... switch to boost and get an unlimited plan for$25 a month. everything... just... clicks. compare brandsin-store or online, see them in your space, and schedule free delivery. so when it's installed...it'll just click. save up to $1,052 on the new samsung bespokelaundry set at the home depot. ---:: ads  end ::--- yes,a shower was necessary, lana. it was a night of many fluids. - first of all, gross.- it really was. second of all, hurry up. i had a whole special dayplanned with aj. coney island,a fancy tea place. moist yet first skindoesn't just happen, lana. i'm on step two of ten. hey, do you seea pumice stone out there? fabian wants us to pick upa negotiation specialist. the broker. he's workedwith all the major players; mafia, yakuza, dictators,dirty cops. cops! there was somethingwith police last night. whoo-hoo! police horse! yeah,there's no way that happened. then explainthese lance callouses. anyway, the broker'sa longtime go-between for criminal groups,which means he has intel on all of them.but now he's retiring, so they all want to torture himfor info and then kill him, which means your shower routinecould cost a man his life and me my day with aj. hello? sorry,step five is a face wash. let's skip to step ten. it's not a big deal, robert. just take aj to the officeinstead of my place. it's not aboutthe physical distance, lana. it's the emotional distancefrom you working instead of spending timewith aj. i'm not working. i just wanna show ajwhere mommy works. depressing even if true. - shut up.-  is that archer? - no, it's...- hey, robert. i wanna remind you, these are formative yearsfor aj. one day you'll look backand wish... that you didn't tell mehow to parent? i agree. so since you are working... love the lying to robert,by the way... who exactlyis taking care of aj? seriously? yeah, pam,i'm really sorry. i... no, i mean, this is amazing. aunt pam is gonna planso many great activities. not to go all ms. frizzle,but i might steal a bus. just be at the officein 15 minutes, okay? and one other thing... - hello, pam. where is...- lana's upstairs. she just sent me down to get ajto bring her upstairs to lana, who we've establishedis upstairs. and she can't comedown because... she... - got her period.- oh. that's a few days earlyfor her, so i guessshe would be unprepared. aj, you ready to come alongwith aunt pammy? no,i don't want to call you that. we've been workingon boundaries. oh, that's okay. i'll just have to earn it with activities! activities with lana? sure. all right, there's the broker. but fabian says he's paranoid,so don't spook him or... hey, broker!broker, over here. damn it, archer. i'm too hungoverfor subterfuge, lana. uh, are you broker,or possibly \"the broker\"? depends on who's asking. vagueness, that's fun. hi. look, we're hereon orders from fabian. orders? someone has the twoof you working on a saturday? - how awful!- ugh, do not get me started. i had a whole day plannedwith my daughter. and i planned last nightaround a day that would let me laypassed out near, but not in, - a pool of vomit.- oh, how dreadful! my sympathiesto the both of you. oh, it's okay. i just... wait, how did we get on this? fabian wants us to take you in. oh, fabian sent you. oh, my apologies. you see, as a negotiator, i often get peopleto talk about themselves as a distractionif i need an easy escape. i call it \"instant intimacy.\" wait, so you weren't actuallysympathizing with me? oh, no,with you, it was real. but there are a lot of peopleafter me. can't be too careful. speaking of,fabian and i had a code word. code word? uh, one moment. ooh. might be hardto get that info. i have code phrase. \"this was a one-hour job,and i have a gun.\" archer! but, yeah, sorry.we are in a rush. - do you have kids?- ah, flash bang! damn it. - he got away.- like i give a shit. - what's my one rule?- no more flash bangs. no more flash bangs. my otolaryngologistalready said i'll be luckyif i'm not deaf by 50. there!he's going for the platform. what the hell? hey, pal, i'm the onewho should be mad. this is a shit bike. jesus, shouldn't these bemotorcycle accessible by now? damn it. hey! has anyone seena mischievous little man? yay high?strange air of sophistication? lana? how did you... i got on the train, archer. the \"being good at your job\"option. ooh, that one's fun. it teaches you animalsin english and en espaã±ol. uh, they used puerco for pig,but cerdo is more common. cool!this one's a coloring book. pam,when is my mom getting here? pam? aj? cyril? why are you here? oh,just burning the midnight oil, but midday.that midday oil. and why are you dressedso casually? fine, pam, you got me. sometimes i come in on weekendsto be at work but feel like i can goof off. well, why don't you just... the thought of goofing off during real work hoursterrifies me. lame. um,i wanna do something else. like playwith a pretty dolly maybe? - ha! hyah!- ah! fyi,she's working on boundaries. that's a good boundary. and it gives me an idea.activities! well, the thingyou have to understand is i'm an amateur marathoner, so it's easy for meto outrun people. maybe average people, not me. says the guy i just outran. ha! getting on a traindoesn't count. enough.i'm sorry we chased you, but we do work for fabian. he's just hard to reachon a saturday. - must be nice.- well, i'm still alive, so i'm inclined to believe you. but let me ask,as agents for fabian, do you think he's being honestabout his intent to help me? aha! you don't trust him. - it's not...- not at all. 0%. - well, time to run again.- wait. there are people out therewho actually want to kill you, and they could be anywhere. freeze!the broker's coming with us. no! he comes with us. does no onetake the weekend off? okay, clearly a lot happening. can we just doa quick roll call? - nyet.- copy that, russian mafia. well, god damn it, dmitri. - eh, can we get a move on here?- oh, and classic mafia. thanks, everyone. looks like we havemexican standoff. easy,we don't use that term anymore. plus, none of uswant to kill each other, so it's more of a multiculturalawkward dinner party. can you not antagonizethe mobsters? big hand friend is smart. now, give us brokerand no one gets hurt. except broker, obviously. hey, new idea. i keep the broker,and everyone else gets hurt because he's under theprotection of sterling archer. the world greatest spy. i work for the agency. should that mean something? gentlemen, gentlemen! might i suggest an alternativewhere no one gets hurt, especially me?i mean, i get it. no one wants their secrets out.i'd want me dead too. right,oh, it's nothing personal. for sure. you are okay guy. look, comrade, i get it.i mean, i've got secrets too. gosh, if people knewthat my grand-meemaw still makes dinnerfor me every sunday... oh, my babushka does too. come on, so does my nonna. every sunday night, she makesa parmigiana could blow the... oh, damn it.he did it again. hey, did you knowhe runs marathons? he must bring that up a lot. - ah, a lot.- everyone, stop. - we want the broker.- ha, get in line, buddy. hiros hi!oh, we haven't seen the yakuza since the seattle negotiation. and now we have to outruna marathoner and threecriminal organizations - on a saturday, lana!- no, we don't. i put a tracker on the brokerwhile we had him. because we always lose them. ready, aj?i'm not gonna go easy on you just because you're a... ah! - whew. let's go again.- damn, aj. where'd you learn to fight? my mom signed me upfor judo classes to help my self-confidence.hyah! ah! you know, there's such a thingas too much confidence. now remember, aj, your opponent won't alwaysfight clean, so it's good to mix insome dirty boxing. eyes, throat, groin. or standard boxing,hold the dirt. - yah!- ooh! damn. hey, pam,we're still on mission, but we should be done soon.how's aj? great.she's playing with cyril. no, no, no, no, no! toying with him anyway. can you tell her i'll onlybe gone a little bit longer? plus her next few birthdaysand most holidays. uh, you want me to saythat second part? no.ah! hmm. too easy. can we do something else? i'm not sure krieger's labis the best place - for a child.- preteen. and why are you still in pads? that last throw...which i let you do... - jammed the zipper.- it'll be fine. just don't touch anythingor listen to anything that tells you to free it. dang it, locked. probably for the best.now who wants... my mom always keepsan extra bobby pin in her hair, so i do too. is it normal to beintimidated by a child? for you? absolutely. oh, you gotta be kidding me! the tracker sayshe's in there. so now i'm at coney islandwithout my daughter. yeah,it's not a good look for you. - oh, my god!- you see him? - oh, i see him.- we are mid-mission! and mid-saturday! wow!is that a raman spectrometer? maybe. how do you know that? mom sent me to science camp. it was right aftermusical theater camp. we did a production of \"stomp!\" aunt pammy would loveto see that! not calling you that,and i don't perform on command. - great boundaries!- whoa. a sensory deprivation tank? but why does it haveso many wires? aj, no! - ah! it's opening!- kill whatever comes out. what day is it? - it's... saturday.- what year? the same one. you are unbelievable. i know, winning poinkerson my first try? you knowhow impressive that is? they glue those bottles down,lana. i'll be impressedif you help me find the broker and get back to aj. i actually got this for aj. i know what it's like to havea mother who's neglectful... and withholding. wait, there he is.ugh, can we not? ah! ah! honestly,i'm glad it's you two. - you seem like my best option.- of all bad options. but fabian's betterthan the criminals - who want to kill you.- eh, tough call. stop making this take longer! i've already losthalf the day with aj. half the day of one weekend. it's not one weekend. there's always some missionor emergency or moronwho won't take our help... no offense... i just feel likei'm blowing it as a mother. - i know how you feel.- you have kids? oh, god, no.had an absent mother. it drove me to a life of crime. please? please, pam? okay, just this once. this feels likereally bad babysitting. - we're not giving her a gun.- it's okay. grandma gave meshooting lessons every year for my birthday, except when i was in europebecause she said, \"they traded the rightto bear arms for having limp fries.\" fine,but no automatic weapons. nobody move. aw, hi there, kitty. - aj, you shouldn't...- rah! that's what you sound like. aw, look how ferocious you are. a ferocious little predator. what in the damnzookeeper hell? language, pam. - what are you doing here?- it's saturday. babou likes to use weekendsto mark new territory. so that meansthe shooting range - is now covered in ocelot urine?- yeah! let's say it's justthe shooting range. that's...alarmingly good grouping. holy crap!who are you, even? it's just a hobby. seriously, who is this kid? hmm, that's weird. how does it not worry you? most things don't worry me,and i don't know what you're talking about,so those two reasons. i mean the ideathat we're ruining aj. lana, a million thingswill ruin aj. us, weird friends,a bad week at summer camp. wait, that's your answer?\"she's already ruined\"? i loved my summer camp. i keep my jogging shoesin the basket i made. we get it, you run! we're all messed upby something, lana. there's murdererswith great parents. all you can dois what you're already doing. try your bestand hope you get lucky. that... actually helpsa little. thanks. hey, pam, we've got the broker.everything's fine. we'll be back at the officein ten minutes. cool. uh, might want to make itsooner. oh, boy. why would all thesecriminal organizations go to our office? maybe becausean idiot told them who he was and where he worked. i mean, that's one option. to be clear,we're driving toward a building full of people who wantto torture and kill me? - correct?- i don't wanna put plans in their mouths, but probably. ah.then i'll be getting out now. you didn't check himfor weapons? it's saturday! you can just pull overanywhere. oh, shoot me. i am saving my daughter,you jackhole. no sense dyingfor her daughter. uh, technicallyshe's my daughter too. you two havea child together? yes, but not through sex. this woman took my spermto have a baby. - oh, my god.- go on. yeah,and then she never told me. i told you when i was ready. after aj was bornduring a coup. not that you cared,because you abandoned her. so you faked a kidnappingto make me care? only the first kidnapping. the other one was real. anyway,she's back from switzerland, she barely knows meas a father, and her motheris going through a divorce. you know what?we gotta save this kid. i is ten up, people. until archer and lana get back, as the babysitter,i'm in charge. - yeah, of the kid.- you wanna try me? not yet, but keep yelling! you three,load up in the armory then run and gun these mofos. - aj, \"mofos\" means...- i know. i'll find aj a place to hideuntil it's over. over meaning we win? sure. ah, not this again.oh, well. wait, wait, wait. we all want same thing, yes? the broker dead and bloody. then maybe we work together,comrades. oh, come on, look at us. the broker connecting usone last time. this guy's the glue, you know? god blessthat soon-to-be dead man. can't you rig up an explosive that will take them outall at once? hey,no backseat bomb building. yeah, we didn't tell you howto make your terrible ties. wait,you think i make my ties... ah! aj, i need you to hidein the lab. but i can help. i swear, i'm ready. i know you are, honey,but you shouldn't have to be, so pam's got this one, whether you call heraunt pammy or not. all right, fellas! don't tell mom the babysitter'sabout to kick your ass! ah!taking a lot of bullets here. do you want meto rush this bomb? no,but i don't love being shot. and i don't love criticism. wait, wait, wait, you didn'tisolate the blast radius. it'll take us all out... how are we not dead? i built it so all the murderwent that way. are youour demolitions expert now? it's more of a hobby/religionfor me. come out, little girl. ivan will not hurt you. ivan will just trade youfor broker... and give puppy. you like puppy, huh? this is for making me come to the office on a saturday! sorry. apologies.jacob, always a pleasure. ah! tell me where my daughter is, or i will rip out your eyes,shove them up your ass so that you watch my fistpunch down your throat. i don't even knowwho you are. - ah!- mommy! - aj!- ah! sweetie, what did we sayabout gunfights? - serpentine!- oh, how adorably competent. right, drop your guns.do it! - bombs too?- cheryl. all right, let's all be cool. said the man holding my child - as human shield.- preteen. this is a babysitter'sworst nightmare. yeah, you're definitelynot getting a tip. no, no, no, no, no,let's all settle down. big tony, this isn't like you. i know, it's just,this didn't go down like i thought it would,all right? so more problems with angie? she wants a big wedding, andall the guests are her friends, so... damn it! - is that an irish jig?- dance camp. wh... damn it, if they kill him, we wasted a whole saturdayfor nothing. aj, honey, i'm so sorry,but... go.i'll stay with aunt pammy. sh-she called me aunt pammy.i earned it! he went this way. i'll get my carand meet you outside. i'm pretty sure i left itin the garage last night. hmm, but not totally sure. sergeant strawberry! is that a... oh! yes, lana, it's a lance! that's them up there. ugh, could you ridea little smoother? sure, lana, let me shiftsergeant strawberry's gears. ugh. here, take the reins. i'm only saying, dimitri... was that like 20 feet?that's gotta be a record. i don't know,felt closer to ten. hey, you have running. let me at least have this. broker, i'm thrilledto see you alive. it's oneof my favorite things to be, second only to wine tastingat your vineyard, of course. - how's the harvest?- ah. if the mildew doesn't getmy sauvignons, the beetles will. then we must hurry to getthose grapes in a glass. oh, how i've missed you. okay, what's your trick? and does it workon daughters? instant intimacy?well, the trick is, there is no trick. i connectbecause i genuinely care. like how you both careabout your daughter. see, lana?the criminal negotiator - thinks we're good parents.- mm, not what he said. - wait, where's aj?- she's fine. she wanted to waitin grandma's office. that had better be juice. mommy! aj, i'm so sorry. i wanted this to beyour best saturday ever. but it was. i saw your officeand played with babou - and fired a gun and...- pam! what mattersis we're all safe. the takeaway hereis she called me aunt pammy. and we all helped babysit,which deserves compensation. - you're a multimillionaire.- but i'm not a chump. amen, sister! - can we watch cartoons now?- i would love that. oh, god, yeah, it's juice. oh, my god, i still taste it. someone get me some whiskey. made in georgia.   is deprecated, pleaseimplement rest api from  \n",
      "\n",
      "Document 3:\n",
      "Summary:  lana: but it's saturday. fabian: [gasps] it is? then i'll askall the terrorists who threatento destroy our world to take the day off. i just mean i had plansto spend the day with aj. fabian: and aj is? my daughter.fabian: ah, children. the time goes so fast, but we're allmaking sacrifices. [glass clinking]excuse me, waiter? more champagnein the next one. uh, yeah, remind me.what's your sacrifice? calling you on a saturday. it's a simple pickup.an hour max. - especially with...- no, no, no. please don't say it. fabian:agent archer as backup. archer on a saturday? as in the dayafter friday night? fabian:i don't see the problem. [chuckles] obviously.have you talked to him yet? no, actually. he hasn't picked up the phonefor some reason. oh, yeah, \"for some reason.\" [cool jazz music] [phone buzzes] [âª âª [clears throat]hey, archer. no. [main title theme] [âª âª support us and become vip member to remove all ads from   archer: yes,a shower was necessary, lana. it was a night of many fluids. first of all, gross.archer: it really was. second of all, hurry up. i had a whole special dayplanned with aj. coney island,a fancy tea place. archer: moist yet firm skindoesn't just happen, lana. i'm on step two of ten. hey, do you seea pumice stone out there? fabian wants us to pick upa negotiation specialist. codename: the broker. he's workedwith all the major players; mafia, yakuza, dictators,dirty cops. [gasps] cops! there was somethingwith police last night. [rock music] whoo-hoo! police horse![siren wailing] [horse whinnies] yeah,there's no way that happened. archer: then explainthese lance callouses. anyway, the broker'sa longtime go-between for criminal groups,which means he has intel on all of them.but now he's retiring, so they all want to torture himfor info and then kill him, which means your shower routinecould cost a man his life and me my day with aj. hello? archer: [muffled] sorry,step five is a face wash. let's skip to step ten.[toilet flushes] [archer yells] it's not a big deal, robert. just take aj to the officeinstead of my place. robert: it's not aboutthe physical distance, lana. it's the emotional distancefrom you working instead of spending timewith aj. i'm not working. i just wanna show ajwhere mommy works. depressing even if true. - shut up.- robert: is that archer? - no, it's...- hey, robert. robert:i wanna remind you, these are formative yearsfor aj. one day you'll look backand wish... that you didn't tell mehow to parent? i agree.[phone beeps] so since you are working... love the lying to robert,by the way... who exactlyis taking care of aj? seriously? lana: yeah, pam,i'm really sorry. i... no, i mean, this is amazing. aunt pam is gonna planso many great activities. not to go all ms. frizzle,but i might steal a bus. lana: just be at the officein 15 minutes, okay? and one other thing... - hello, pam. where is...- lana's upstairs. she just sent me down to get ajto bring her upstairs to lana, who we've establishedis upstairs. and she can't comedown because... she... - got her period.- oh. that's a few days earlyfor her, so i guessshe would be unprepared. aj, you ready to come alongwith aunt pammy? no,i don't want to call you that. we've been workingon boundaries. oh, that's okay. i'll just have to earn it with activities! activities with lana? sure. lana:all right, there's the broker. but fabian says he's paranoid,so don't spook him or... hey, broker!broker, over here. [sighs] damn it, archer. i'm too hungoverfor subterfuge, lana. uh, are you broker,or possibly \"the broker\"? depends on who's asking. vagueness, that's fun. hi. look, we're hereon orders from fabian. orders? someone has the twoof you working on a saturday? - how awful!- ugh, do not get me started. i had a whole day plannedwith my daughter. and i planned last nightaround a day that would let me laypassed out near, but not in, - a pool of vomit.- oh, how dreadful! my sympathiesto the both of you. oh, it's okay. i just... wait, how did we get on this? fabian wants us to take you in. oh, fabian sent you. oh, my apologies. you see, as a negotiator, i often get peopleto talk about themselves as a distractionif i need an easy escape. i call it \"instant intimacy.\"[chuckles] wait, so you weren't actuallysympathizing with me? oh, no,with you, it was real. but there are a lot of peopleafter me. can't be too careful. speaking of,fabian and i had a code word. code word? uh, one moment. [phone buzzing] - [light music playing]- ooh. [phone buzzing] might be hardto get that info. i have a code phrase. \"this was a one-hour job,and i have a gun.\" archer! but, yeah, sorry.we are in a rush. - do you have kids?- ah, flash bang! [lana and archer groaning]lana: damn it. - he got away.- [coughs] like i give a shit. - what's my one rule?- [sighs] no more flash bangs. no more flash bangs. my otolaryngologistalready said i'll be luckyif i'm not deaf by 50. there!he's going for the platform. [exciting music] biker: what the hell? hey, pal, i'm the onewho should be mad. this is a shit bike. [engine rumbling] [âª âª jesus, shouldn't these bemotorcycle accessible by now? [âª âª [both yelling] damn it. hey! has anyone seena mischievous little man? yay high?strange air of sophistication? [lana clears throat]lana? how did you... i got on the train, archer. the \"being good at your job\"option. ooh, that one's fun. it teaches you animalsin english and en espaã±ol. uh, they used puerco for pig,but cerdo is more common. cool!this one's a coloring book. pam,when is my mom getting here? [elevator dings] pam? aj? cyril? why are you here? oh,just burning the midnight oil, but midday.that midday oil. and why are you dressedso casually? fine, pam, you got me. sometimes i come in on weekendsto be at work but feel like i can goof off. well, why don't you just... the thought of goofing off during real work hoursterrifies me. [chuckles] lame. um,i wanna do something else. like playwith a pretty dolly maybe? - ha! hyah!- ah! [groans] [chuckles] fyi,she's working on boundaries. [weakly]that's a good boundary. and it gives me an idea.activities! well, the thingyou have to understand is i'm an amateur marathoner, so it's easy for meto outrun people. maybe average people, not me. says the guy i just outran. ha! getting on a traindoesn't count. enough.i'm sorry we chased you, but we do work for fabian. he's just hard to reachon a saturday. - must be nice.- well, i'm still alive, so i'm inclined to believe you. but let me ask,as agents for fabian, do you think he's being honestabout his intent to help me? aha! you don't trust him. - it's not...- not at all. 0%. - well, time to run again.- wait. there are people out therewho actually want to kill you, and they could be anywhere. freeze!the broker's coming with us. no! he comes with us. [tense music] does no onetake the weekend off? okay, clearly a lot happen can we just doa quick roll call? - nyet.- copy that, russian mafia. well, god damn it, dmitri. - eh, can we get a move on here?- oh, and classic mafia. thanks, everyone. looks like we havemexican standoff. easy,we don't use that term anymore. plus, none of uswant to kill each other, so it's more of a multiculturalawkward dinner party. can you not antagonizethe mobsters? big hand friend is smart. now, give us brokerand no one gets hurt. except broker, obviously. hey, new idea. i keep the broker,and everyone else gets hurt because he's under theprotection of sterling archer. the world greatest spy. i work for the agency. should that mean something? - [gun cocks]- gentlemen, gentlemen! might i suggest an alternativewhere no one gets hurt, especially me?i mean, i get it. no one wants their secrets out.i'd want me dead too. right,oh, it's nothing personal. for sure. you are okay guy. look, comrade, i get it.i mean, i've got secrets too. gosh, if people knewthat my grand-meemaw still makes dinnerfor me every sunday... oh, my babushka does too. come on, so does my nonna. every sunday night, she makesa parmigiana could blow the... oh, damn it.he did it again. hey, did you knowhe runs marathons? he must bring that up a lot. - ah, a lot.- everyone, stop. - we want the broker.- ha, get in line, buddy. hiros hi!oh, we haven't seen the yakuza since the seattle negotiation. and now we have to outruna marathoner and threecriminal organizations - on a saturday, lana!- no, we don't. i put a tracker on the brokerwhile we had him. [sighs]because we always lose them. ready, aj?i'm not gonna go easy on you just because you're a... ah! - whew. let's go again.- damn, aj. where'd you learn to fight? my mom signed me upfor judo classes to help my self-confidence.hyah! ah! you know, there's such a thingas too much confidence. now remember, aj, your opponent won't alwaysfight clean, so it's good to mix insome dirty boxing. eyes, throat, groin. or standard boxing,hold the dirt. - aj: yah!- ooh! [whimpers] damn.[phone rings] lana: hey, pam,we're still on mission, but we should be done soon.how's aj? great.she's playing with cyril. no, no, no, no, no![groans] [chuckles]toying with him anyway. can you tell her i'll onlybe gone a little bit longer? plus her next few birthdaysand most holidays. pam: uh, you want me to saythat second part? - no.- cyril: ah! hmm. too easy.[phone beeps] can we do something else? [ominous music] i'm not sure krieger's labis the best place - for a child.- preteen. and why are you still in pads? that last throw...which i let you do... - jammed the zipper.- it'll be fine. just don't touch anythingor listen to anything that tells you to free it. [door buzzes]dang it, locked. probably for the best.now who wants... my mom always keepsan extra bobby pin in her hair, so i do too. is it normal to beintimidated by a child? for you? absolutely. oh, you gotta be kidding me! the tracker sayshe's in there. so now i'm at coney islandwithout my daughter. yeah,it's not a good look for you. - [gasps] oh, my god!- you see him? - oh, i see him.- we are mid-mission! archer: and mid-saturday! [ominous music] wow!is that a raman spectrometer? maybe. how do you know that? mom sent me to science camp. it was right aftermusical theater camp. we did a production of \"stomp!\" aunt pammy would loveto see that! not calling you that,and i don't perform on command. - great boundaries!- whoa. a sensory deprivation tank? but why does it haveso many wires? aj, no! - cyril: ah! it's opening!- kill whatever comes out. [gasps] what day is it? - it's... saturday.- what year? the same one. you are unbelievable. i know, winning poinkerson my first try? you knowhow impressive that is? they glue those bottles down,lana. i'll be impressedif you help me find the broker and get back to aj. i actually got this for aj. i know what it's like to havea mother who's neglectful... [fabric tearing] and withholding. wait, there he is.archer: ugh, can we not? [exciting music] - [archer grunts]- ah! [winces] ah! honestly,i'm glad it's you two. - you seem like my best option.- of all bad options. but fabian's betterthan the criminals - who want to kill you.- eh, tough call. stop making this take longer! i've already losthalf the day with aj. half the day of one weekend. it's not one weekend. there's always some missionor emergency or moronwho won't take our help... no offense... i just feel likei'm blowing it as a mother. - i know how you feel.- you have kids? oh, god, no.had an absent mother. it drove me to a life of crime. please? please, pam? okay, just this once. this feels likereally bad babysitting. - we're not giving her a gun.- it's okay. grandma gave meshooting lessons every year for my birthday, except when i was in europebecause she said, \"they traded the rightto bear arms for having limp fries.\" fine,but no automatic weapons. [epic music] [growling, hissing] nobody move. - [snarling]- aw, hi there, kitty. - aj, you shouldn't...- rah! that's what you sound like. aw, look how ferocious you are.[babou purring] a ferocious little predator. what in the damnzookeeper hell? [gasps] language, pam. - what are you doing here?- it's saturday. babou likes to use weekendsto mark new territory. so that meansthe shooting range - is now covered in ocelot urine?- yeah! let's say it's justthe shooting range. [gunfire] that's...alarmingly good grouping. holy crap!who are you, even? it's just a hobby. seriously, who is this kid? - [alarm blaring]- hmm, that's weird. lana:how does it not worry you? most things don't worry me,and i don't know what you're talking about,so those two reasons. i mean the ideathat we're ruining aj. lana, a million thingswill ruin aj. us, weird friends,a bad week at summer camp. wait, that's your answer?\"she's already ruined\"? i loved my summer camp. i keep my jogging shoesin the basket i made. we get it, you run! we're all messed upby something, lana. there's murdererswith great parents. all you can dois what you're already doing. try your bestand hope you get lucky. that... actually helpsa little. thanks. hey, pam, we've got the broker.everything's fine. we'll be back at the officein ten minutes. pam: cool. uh, might want to make itsooner. oh, boy. why would all thesecriminal go to our office? maybe becausean idiot told them who he was and where he worked. i mean, that's one option. to be clear,we're driving toward a building full of people who wantto torture and kill me? - correct?- i don't wanna put plans in their mouths, but probably. ah.then i'll be getting out now. you didn't check himfor weapons? it's saturday! you can just pull overanywhere. oh, shoot me. i am saving my daughter,you jackhole. no sense dyingfor her daughter. uh, technicallyshe's my daughter too. you two havea child together? yes, but not through sex. this woman took my spermto have a baby. - lana: oh, my god.- go on. yeah,and then she never told me. i told you when i was ready. after aj was bornduring a coup. not that you cared,because you abandoned her. so you faked a kidnappingto make me care? only the first kidnapping. the other one was real. anyway,she's back from switzerland, she barely knows meas a father, and her motheris going through a divorce. you know what?we gotta save this kid. [engine roars] listen up, people. until archer and lana get back, as the babysitter,i'm in charge. - yeah, of the kid.- you wanna try me? not yet, but keep yelling! you three,load up in the armory then run and gun these mofos. - aj, \"mofos\" means...- i know. i'll find aj a place to hideuntil it's over. over meaning we win? sure. [intense music] [guns cocking] [âª âª ah, not this again.oh, well. [guns cocking] wait, wait, wait. we all want same thing, yes? the broker dead and bloody. then maybe we work together,comrades. oh, come on, look at us. the broker connecting usone last time. this guy's the glue, you know? god blessthat soon-to-be dead man. [elevator dinging] can't you rig up an explosive that will take them outall at once? hey,no backseat bomb building. yeah, we didn't tell you howto make your terrible ties. wait,you think i make my ties? [elevator dings, gunfire] ah! aj, i need you to hidein the lab. but i can help. i swear, i'm ready. i know you are, honey,but you shouldn't have to be, so pam's got this one, whether you call heraunt pammy or not. [cracking knuckles]all right, fellas! don't tell mom the babysitter'sabout to kick your ass! [all grunting] [gunfire] ah!taking a lot of bullets here. do you want meto rush this bomb? no,but i don't love being shot. and i don't love criticism. wait, wait, wait, you didn'tisolate the blast radius. it'll take us all out... [coughs] how are we not dead? i built it so all the murderwent that way. are youour demolitions expert now? it's more of a hobby/religionfor me. come out, little girl. ivan will not hurt you. ivan will just trade youfor broker... and give puppy. you like puppy, huh? [babou growling, ivan screaming] this is for making me come to the office on a saturday![both groaning] sorry. apologies.jacob, always a pleasure. ah! [gun clicks] [gun clicks] tell me where my daughter is, or i will rip out your eyes,shove them up your ass so that you watch my fistpunch down your throat. i don't even knowwho you are. - ah!- mommy! - aj!- ah! sweetie, what did we sayabout gunfights? - serpentine!- oh, how adorably competent. right, drop your guns.do it! - bombs too?- cheryl. all right, let's all be cool. said the man holding my child - as a human shield.- preteen. this is a babysitter'sworst nightmare. yeah, you're definitelynot getting a tip. no, no, no, no, no,let's all settle down. big tony, this isn't like you. i know, it's just,this didn't go down like i thought it would,all right? so more problems with angie? she wants a big wedding, andall the guests are her friends, so...[phone rings] damn it![shoes tapping rhythmically] - is that an irish jig?- dance camp. wh... damn it, if they kill him, we wasted a whole saturdayfor nothing. aj, honey, i'm so sorry,but... go.i'll stay with aunt pammy. sh-she called me aunt pammy.i earned it! - [elevator dings]- he went this way. i'll get my carand meet you outside. i'm pretty sure i left itin the garage last night. hmm, but not totally sure. [horse whinnies]sergeant strawberry! - [horse whinnies]- is that a... oh! yes, lana, it's a lance! lana: that's them up there. ugh, could you ridea little smoother? sure, lana, let me shiftsergeant strawberry's gears. [glass shatters, metal crunches] ugh. here, take the reins. - [archer yelling]- i'm only saying, dimitri... [archer laughing] was that like 20 feet?that's gotta be a record. i don't know,felt closer to ten. hey, you have running. let me at least have this. [elevator dings] broker, i'm thrilledto see you alive. it's oneof my favorite things to be, second only to wine tastingat your vineyard, of course. - how's the harvest?- ah. if the mildew doesn't getmy sauvignons, the beetles will. then we must hurry to getthose grapes in a glass. [chuckles] oh, how i've missed you. - [chuckles]- okay, what's your trick? and does it workon daughters? instant intimacy?well, the trick is, there is no trick. i connectbecause i genuinely care. like how you both careabout your daughter. see, lana?the criminal negotiator - thinks we're good parents.- mm, not what he said. - wait, where's aj?- she's fine. she wanted to waitin grandma's office. [cool music] that had better be juice. mommy! aj, i'm so sorry. i wanted this to beyour best saturday ever. but it was. i saw your officeand played with babou - and fired a gun and...- pam! what mattersis we're all safe. the takeaway hereis she called me aunt pammy. and we all helped babysit,which deserves compensation. - you're a multimillionaire.- but i'm not a chump. amen, sister! - can we watch cartoons now?- i would love that. oh, god, yeah, it's juice. oh, my god, i still taste it. someone get me some whiskey. made in georgia. please rate this subtitle at   other users to choose the best subtitles\n",
      "\n"
     ]
    }
   ],
   "source": [
    "# summarized documents\n",
    "summarized_docs = generate_summarized_documents(User_Input, retrieved_documents)\n",
    "\n",
    "# Print the summarized documents\n",
    "for doc, summary in summarized_docs.items():\n",
    "    print(doc + \":\")\n",
    "    print(summary)\n",
    "    print()"
   ]
  },
  {
   "cell_type": "code",
   "execution_count": 28,
   "id": "e49fc88e",
   "metadata": {},
   "outputs": [],
   "source": [
    "import joblib"
   ]
  },
  {
   "cell_type": "code",
   "execution_count": 29,
   "id": "c226c9ad",
   "metadata": {},
   "outputs": [
    {
     "data": {
      "text/plain": [
       "['Count_Vectorizer.joblib']"
      ]
     },
     "execution_count": 29,
     "metadata": {},
     "output_type": "execute_result"
    }
   ],
   "source": [
    "joblib.dump(CV, 'Count_Vectorizer.joblib')"
   ]
  },
  {
   "cell_type": "code",
   "execution_count": 31,
   "id": "31b58994",
   "metadata": {},
   "outputs": [
    {
     "data": {
      "text/plain": [
       "['TF_IDF_transformer.joblib']"
      ]
     },
     "execution_count": 31,
     "metadata": {},
     "output_type": "execute_result"
    }
   ],
   "source": [
    "joblib.dump(TF_T, 'TF_IDF_transformer.joblib')"
   ]
  },
  {
   "cell_type": "code",
   "execution_count": 32,
   "id": "d9221a90",
   "metadata": {},
   "outputs": [
    {
     "data": {
      "text/plain": [
       "['TFIDF_Matrix.joblib']"
      ]
     },
     "execution_count": 32,
     "metadata": {},
     "output_type": "execute_result"
    }
   ],
   "source": [
    "joblib.dump(TFIDF_M, 'TFIDF_Matrix.joblib')"
   ]
  },
  {
   "cell_type": "code",
   "execution_count": 33,
   "id": "df70d454",
   "metadata": {},
   "outputs": [
    {
     "data": {
      "text/plain": [
       "['Cosine_Similarity_Scores.joblib']"
      ]
     },
     "execution_count": 33,
     "metadata": {},
     "output_type": "execute_result"
    }
   ],
   "source": [
    "joblib.dump(Score, 'Cosine_Similarity_Scores.joblib')"
   ]
  },
  {
   "cell_type": "code",
   "execution_count": null,
   "id": "e475df53",
   "metadata": {},
   "outputs": [],
   "source": []
  }
 ],
 "metadata": {
  "kernelspec": {
   "display_name": "Python 3 (ipykernel)",
   "language": "python",
   "name": "python3"
  },
  "language_info": {
   "codemirror_mode": {
    "name": "ipython",
    "version": 3
   },
   "file_extension": ".py",
   "mimetype": "text/x-python",
   "name": "python",
   "nbconvert_exporter": "python",
   "pygments_lexer": "ipython3",
   "version": "3.11.5"
  }
 },
 "nbformat": 4,
 "nbformat_minor": 5
}
